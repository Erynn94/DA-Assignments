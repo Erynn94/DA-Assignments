{
 "cells": [
  {
   "cell_type": "code",
   "execution_count": 179,
   "id": "34a4a59b",
   "metadata": {
    "papermill": {
     "duration": 0.929187,
     "end_time": "2021-09-16T14:29:20.238920",
     "exception": false,
     "start_time": "2021-09-16T14:29:19.309733",
     "status": "completed"
    },
    "tags": []
   },
   "outputs": [],
   "source": [
    "import warnings\n",
    "warnings.filterwarnings('ignore')\n",
    "import numpy as np\n",
    "import pandas as pd\n",
    "import matplotlib.pyplot as plt\n",
    "import seaborn as sns"
   ]
  },
  {
   "cell_type": "markdown",
   "id": "69398980",
   "metadata": {
    "papermill": {
     "duration": 0.084142,
     "end_time": "2021-09-16T14:29:20.425089",
     "exception": false,
     "start_time": "2021-09-16T14:29:20.340947",
     "status": "completed"
    },
    "tags": []
   },
   "source": [
    "# Bike Sharing Assignment"
   ]
  },
  {
   "cell_type": "markdown",
   "id": "31bbff7a",
   "metadata": {
    "papermill": {
     "duration": 0.085356,
     "end_time": "2021-09-16T14:29:20.602804",
     "exception": false,
     "start_time": "2021-09-16T14:29:20.517448",
     "status": "completed"
    },
    "tags": []
   },
   "source": [
    "### Problem Statement:\n",
    "A US bike-sharing provider BoomBikes has recently suffered considerable dips in their revenues due to the ongoing Corona pandemic. The company is finding it very difficult to sustain in the current market scenario. So, it has decided to come up with a mindful business plan to be able to accelerate its revenue as soon as the ongoing lockdown comes to an end, and the economy restores to a healthy state. \n",
    "\n",
    "Essentially the company wants :\n",
    "- To understand the demand for shared bikes among the people after this ongoing quarantine situation ends across the nation due to Covid-19, by creating a linear model.\n",
    "- To identify the variables affecting their revenues i.e. Which variables are significant in predicting the demand for shared bikes.\n",
    "- To know the accuracy of the model, i.e. How well those variables describe the bike demands\n",
    "\n",
    "They have planned this to prepare themselves to cater to the people's needs once the situation gets better all around and stand out from other service providers and make huge profits."
   ]
  },
  {
   "cell_type": "markdown",
   "id": "dd410386",
   "metadata": {
    "papermill": {
     "duration": 0.084206,
     "end_time": "2021-09-16T14:29:20.772689",
     "exception": false,
     "start_time": "2021-09-16T14:29:20.688483",
     "status": "completed"
    },
    "tags": []
   },
   "source": [
    "## Step 1: Reading and Understanding the Data"
   ]
  },
  {
   "cell_type": "markdown",
   "id": "466bee64",
   "metadata": {
    "papermill": {
     "duration": 0.082406,
     "end_time": "2021-09-16T14:29:20.940683",
     "exception": false,
     "start_time": "2021-09-16T14:29:20.858277",
     "status": "completed"
    },
    "tags": []
   },
   "source": [
    "#### Task 1: Reading the Bike sharing dataset"
   ]
  },
  {
   "cell_type": "code",
   "execution_count": 2,
   "id": "79c955a2",
   "metadata": {
    "papermill": {
     "duration": 0.10378,
     "end_time": "2021-09-16T14:29:21.129259",
     "exception": false,
     "start_time": "2021-09-16T14:29:21.025479",
     "status": "completed"
    },
    "scrolled": true,
    "tags": []
   },
   "outputs": [],
   "source": [
    "# Import the dataset\n",
    "import pandas as pd\n",
    "\n",
    "bike = pd.read_csv('/Users/allyirish/Downloads/Erynn Irish - day.csv')"
   ]
  },
  {
   "cell_type": "code",
   "execution_count": 4,
   "id": "78480f8e",
   "metadata": {},
   "outputs": [
    {
     "data": {
      "text/html": [
       "<div>\n",
       "<style scoped>\n",
       "    .dataframe tbody tr th:only-of-type {\n",
       "        vertical-align: middle;\n",
       "    }\n",
       "\n",
       "    .dataframe tbody tr th {\n",
       "        vertical-align: top;\n",
       "    }\n",
       "\n",
       "    .dataframe thead th {\n",
       "        text-align: right;\n",
       "    }\n",
       "</style>\n",
       "<table border=\"1\" class=\"dataframe\">\n",
       "  <thead>\n",
       "    <tr style=\"text-align: right;\">\n",
       "      <th></th>\n",
       "      <th>instant</th>\n",
       "      <th>dteday</th>\n",
       "      <th>season</th>\n",
       "      <th>yr</th>\n",
       "      <th>mnth</th>\n",
       "      <th>holiday</th>\n",
       "      <th>weekday</th>\n",
       "      <th>workingday</th>\n",
       "      <th>weathersit</th>\n",
       "      <th>temp</th>\n",
       "      <th>atemp</th>\n",
       "      <th>hum</th>\n",
       "      <th>windspeed</th>\n",
       "      <th>casual</th>\n",
       "      <th>registered</th>\n",
       "      <th>cnt</th>\n",
       "    </tr>\n",
       "  </thead>\n",
       "  <tbody>\n",
       "    <tr>\n",
       "      <th>0</th>\n",
       "      <td>1</td>\n",
       "      <td>01-01-2018</td>\n",
       "      <td>1</td>\n",
       "      <td>0</td>\n",
       "      <td>1</td>\n",
       "      <td>0</td>\n",
       "      <td>6</td>\n",
       "      <td>0</td>\n",
       "      <td>2</td>\n",
       "      <td>14.110847</td>\n",
       "      <td>18.18125</td>\n",
       "      <td>80.5833</td>\n",
       "      <td>10.749882</td>\n",
       "      <td>331</td>\n",
       "      <td>654</td>\n",
       "      <td>985</td>\n",
       "    </tr>\n",
       "    <tr>\n",
       "      <th>1</th>\n",
       "      <td>2</td>\n",
       "      <td>02-01-2018</td>\n",
       "      <td>1</td>\n",
       "      <td>0</td>\n",
       "      <td>1</td>\n",
       "      <td>0</td>\n",
       "      <td>0</td>\n",
       "      <td>0</td>\n",
       "      <td>2</td>\n",
       "      <td>14.902598</td>\n",
       "      <td>17.68695</td>\n",
       "      <td>69.6087</td>\n",
       "      <td>16.652113</td>\n",
       "      <td>131</td>\n",
       "      <td>670</td>\n",
       "      <td>801</td>\n",
       "    </tr>\n",
       "    <tr>\n",
       "      <th>2</th>\n",
       "      <td>3</td>\n",
       "      <td>03-01-2018</td>\n",
       "      <td>1</td>\n",
       "      <td>0</td>\n",
       "      <td>1</td>\n",
       "      <td>0</td>\n",
       "      <td>1</td>\n",
       "      <td>1</td>\n",
       "      <td>1</td>\n",
       "      <td>8.050924</td>\n",
       "      <td>9.47025</td>\n",
       "      <td>43.7273</td>\n",
       "      <td>16.636703</td>\n",
       "      <td>120</td>\n",
       "      <td>1229</td>\n",
       "      <td>1349</td>\n",
       "    </tr>\n",
       "    <tr>\n",
       "      <th>3</th>\n",
       "      <td>4</td>\n",
       "      <td>04-01-2018</td>\n",
       "      <td>1</td>\n",
       "      <td>0</td>\n",
       "      <td>1</td>\n",
       "      <td>0</td>\n",
       "      <td>2</td>\n",
       "      <td>1</td>\n",
       "      <td>1</td>\n",
       "      <td>8.200000</td>\n",
       "      <td>10.60610</td>\n",
       "      <td>59.0435</td>\n",
       "      <td>10.739832</td>\n",
       "      <td>108</td>\n",
       "      <td>1454</td>\n",
       "      <td>1562</td>\n",
       "    </tr>\n",
       "    <tr>\n",
       "      <th>4</th>\n",
       "      <td>5</td>\n",
       "      <td>05-01-2018</td>\n",
       "      <td>1</td>\n",
       "      <td>0</td>\n",
       "      <td>1</td>\n",
       "      <td>0</td>\n",
       "      <td>3</td>\n",
       "      <td>1</td>\n",
       "      <td>1</td>\n",
       "      <td>9.305237</td>\n",
       "      <td>11.46350</td>\n",
       "      <td>43.6957</td>\n",
       "      <td>12.522300</td>\n",
       "      <td>82</td>\n",
       "      <td>1518</td>\n",
       "      <td>1600</td>\n",
       "    </tr>\n",
       "  </tbody>\n",
       "</table>\n",
       "</div>"
      ],
      "text/plain": [
       "   instant      dteday  season  yr  mnth  holiday  weekday  workingday  \\\n",
       "0        1  01-01-2018       1   0     1        0        6           0   \n",
       "1        2  02-01-2018       1   0     1        0        0           0   \n",
       "2        3  03-01-2018       1   0     1        0        1           1   \n",
       "3        4  04-01-2018       1   0     1        0        2           1   \n",
       "4        5  05-01-2018       1   0     1        0        3           1   \n",
       "\n",
       "   weathersit       temp     atemp      hum  windspeed  casual  registered  \\\n",
       "0           2  14.110847  18.18125  80.5833  10.749882     331         654   \n",
       "1           2  14.902598  17.68695  69.6087  16.652113     131         670   \n",
       "2           1   8.050924   9.47025  43.7273  16.636703     120        1229   \n",
       "3           1   8.200000  10.60610  59.0435  10.739832     108        1454   \n",
       "4           1   9.305237  11.46350  43.6957  12.522300      82        1518   \n",
       "\n",
       "    cnt  \n",
       "0   985  \n",
       "1   801  \n",
       "2  1349  \n",
       "3  1562  \n",
       "4  1600  "
      ]
     },
     "execution_count": 4,
     "metadata": {},
     "output_type": "execute_result"
    }
   ],
   "source": [
    "# Check the head of the dataset\n",
    "\n",
    "bike.head()"
   ]
  },
  {
   "cell_type": "markdown",
   "id": "cda127cc",
   "metadata": {
    "papermill": {
     "duration": 0.081425,
     "end_time": "2021-09-16T14:29:21.484515",
     "exception": false,
     "start_time": "2021-09-16T14:29:21.403090",
     "status": "completed"
    },
    "tags": []
   },
   "source": [
    "#### Task 2: Inspecting the Dataset"
   ]
  },
  {
   "cell_type": "code",
   "execution_count": 7,
   "id": "0b6e4a5a",
   "metadata": {
    "scrolled": true
   },
   "outputs": [
    {
     "name": "stdout",
     "output_type": "stream",
     "text": [
      "(730, 16)\n"
     ]
    }
   ],
   "source": [
    "print(bike.shape)"
   ]
  },
  {
   "cell_type": "code",
   "execution_count": 9,
   "id": "d51f6edc",
   "metadata": {},
   "outputs": [
    {
     "name": "stdout",
     "output_type": "stream",
     "text": [
      "<class 'pandas.core.frame.DataFrame'>\n",
      "RangeIndex: 730 entries, 0 to 729\n",
      "Data columns (total 16 columns):\n",
      " #   Column      Non-Null Count  Dtype  \n",
      "---  ------      --------------  -----  \n",
      " 0   instant     730 non-null    int64  \n",
      " 1   dteday      730 non-null    object \n",
      " 2   season      730 non-null    int64  \n",
      " 3   yr          730 non-null    int64  \n",
      " 4   mnth        730 non-null    int64  \n",
      " 5   holiday     730 non-null    int64  \n",
      " 6   weekday     730 non-null    int64  \n",
      " 7   workingday  730 non-null    int64  \n",
      " 8   weathersit  730 non-null    int64  \n",
      " 9   temp        730 non-null    float64\n",
      " 10  atemp       730 non-null    float64\n",
      " 11  hum         730 non-null    float64\n",
      " 12  windspeed   730 non-null    float64\n",
      " 13  casual      730 non-null    int64  \n",
      " 14  registered  730 non-null    int64  \n",
      " 15  cnt         730 non-null    int64  \n",
      "dtypes: float64(4), int64(11), object(1)\n",
      "memory usage: 91.4+ KB\n",
      "None\n"
     ]
    }
   ],
   "source": [
    "print(bike.info())"
   ]
  },
  {
   "cell_type": "code",
   "execution_count": 11,
   "id": "3a585449",
   "metadata": {
    "papermill": {
     "duration": 0.10778,
     "end_time": "2021-09-16T14:29:21.848407",
     "exception": false,
     "start_time": "2021-09-16T14:29:21.740627",
     "status": "completed"
    },
    "tags": []
   },
   "outputs": [],
   "source": [
    "#Output"
   ]
  },
  {
   "cell_type": "code",
   "execution_count": 13,
   "id": "334b5957",
   "metadata": {},
   "outputs": [
    {
     "data": {
      "text/html": [
       "<div>\n",
       "<style scoped>\n",
       "    .dataframe tbody tr th:only-of-type {\n",
       "        vertical-align: middle;\n",
       "    }\n",
       "\n",
       "    .dataframe tbody tr th {\n",
       "        vertical-align: top;\n",
       "    }\n",
       "\n",
       "    .dataframe thead th {\n",
       "        text-align: right;\n",
       "    }\n",
       "</style>\n",
       "<table border=\"1\" class=\"dataframe\">\n",
       "  <thead>\n",
       "    <tr style=\"text-align: right;\">\n",
       "      <th></th>\n",
       "      <th>instant</th>\n",
       "      <th>season</th>\n",
       "      <th>yr</th>\n",
       "      <th>mnth</th>\n",
       "      <th>holiday</th>\n",
       "      <th>weekday</th>\n",
       "      <th>workingday</th>\n",
       "      <th>weathersit</th>\n",
       "      <th>temp</th>\n",
       "      <th>atemp</th>\n",
       "      <th>hum</th>\n",
       "      <th>windspeed</th>\n",
       "      <th>casual</th>\n",
       "      <th>registered</th>\n",
       "      <th>cnt</th>\n",
       "    </tr>\n",
       "  </thead>\n",
       "  <tbody>\n",
       "    <tr>\n",
       "      <th>count</th>\n",
       "      <td>730.000000</td>\n",
       "      <td>730.000000</td>\n",
       "      <td>730.000000</td>\n",
       "      <td>730.000000</td>\n",
       "      <td>730.000000</td>\n",
       "      <td>730.000000</td>\n",
       "      <td>730.000000</td>\n",
       "      <td>730.000000</td>\n",
       "      <td>730.000000</td>\n",
       "      <td>730.000000</td>\n",
       "      <td>730.000000</td>\n",
       "      <td>730.000000</td>\n",
       "      <td>730.000000</td>\n",
       "      <td>730.000000</td>\n",
       "      <td>730.000000</td>\n",
       "    </tr>\n",
       "    <tr>\n",
       "      <th>mean</th>\n",
       "      <td>365.500000</td>\n",
       "      <td>2.498630</td>\n",
       "      <td>0.500000</td>\n",
       "      <td>6.526027</td>\n",
       "      <td>0.028767</td>\n",
       "      <td>2.997260</td>\n",
       "      <td>0.683562</td>\n",
       "      <td>1.394521</td>\n",
       "      <td>20.319259</td>\n",
       "      <td>23.726322</td>\n",
       "      <td>62.765175</td>\n",
       "      <td>12.763620</td>\n",
       "      <td>849.249315</td>\n",
       "      <td>3658.757534</td>\n",
       "      <td>4508.006849</td>\n",
       "    </tr>\n",
       "    <tr>\n",
       "      <th>std</th>\n",
       "      <td>210.877136</td>\n",
       "      <td>1.110184</td>\n",
       "      <td>0.500343</td>\n",
       "      <td>3.450215</td>\n",
       "      <td>0.167266</td>\n",
       "      <td>2.006161</td>\n",
       "      <td>0.465405</td>\n",
       "      <td>0.544807</td>\n",
       "      <td>7.506729</td>\n",
       "      <td>8.150308</td>\n",
       "      <td>14.237589</td>\n",
       "      <td>5.195841</td>\n",
       "      <td>686.479875</td>\n",
       "      <td>1559.758728</td>\n",
       "      <td>1936.011647</td>\n",
       "    </tr>\n",
       "    <tr>\n",
       "      <th>min</th>\n",
       "      <td>1.000000</td>\n",
       "      <td>1.000000</td>\n",
       "      <td>0.000000</td>\n",
       "      <td>1.000000</td>\n",
       "      <td>0.000000</td>\n",
       "      <td>0.000000</td>\n",
       "      <td>0.000000</td>\n",
       "      <td>1.000000</td>\n",
       "      <td>2.424346</td>\n",
       "      <td>3.953480</td>\n",
       "      <td>0.000000</td>\n",
       "      <td>1.500244</td>\n",
       "      <td>2.000000</td>\n",
       "      <td>20.000000</td>\n",
       "      <td>22.000000</td>\n",
       "    </tr>\n",
       "    <tr>\n",
       "      <th>25%</th>\n",
       "      <td>183.250000</td>\n",
       "      <td>2.000000</td>\n",
       "      <td>0.000000</td>\n",
       "      <td>4.000000</td>\n",
       "      <td>0.000000</td>\n",
       "      <td>1.000000</td>\n",
       "      <td>0.000000</td>\n",
       "      <td>1.000000</td>\n",
       "      <td>13.811885</td>\n",
       "      <td>16.889713</td>\n",
       "      <td>52.000000</td>\n",
       "      <td>9.041650</td>\n",
       "      <td>316.250000</td>\n",
       "      <td>2502.250000</td>\n",
       "      <td>3169.750000</td>\n",
       "    </tr>\n",
       "    <tr>\n",
       "      <th>50%</th>\n",
       "      <td>365.500000</td>\n",
       "      <td>3.000000</td>\n",
       "      <td>0.500000</td>\n",
       "      <td>7.000000</td>\n",
       "      <td>0.000000</td>\n",
       "      <td>3.000000</td>\n",
       "      <td>1.000000</td>\n",
       "      <td>1.000000</td>\n",
       "      <td>20.465826</td>\n",
       "      <td>24.368225</td>\n",
       "      <td>62.625000</td>\n",
       "      <td>12.125325</td>\n",
       "      <td>717.000000</td>\n",
       "      <td>3664.500000</td>\n",
       "      <td>4548.500000</td>\n",
       "    </tr>\n",
       "    <tr>\n",
       "      <th>75%</th>\n",
       "      <td>547.750000</td>\n",
       "      <td>3.000000</td>\n",
       "      <td>1.000000</td>\n",
       "      <td>10.000000</td>\n",
       "      <td>0.000000</td>\n",
       "      <td>5.000000</td>\n",
       "      <td>1.000000</td>\n",
       "      <td>2.000000</td>\n",
       "      <td>26.880615</td>\n",
       "      <td>30.445775</td>\n",
       "      <td>72.989575</td>\n",
       "      <td>15.625589</td>\n",
       "      <td>1096.500000</td>\n",
       "      <td>4783.250000</td>\n",
       "      <td>5966.000000</td>\n",
       "    </tr>\n",
       "    <tr>\n",
       "      <th>max</th>\n",
       "      <td>730.000000</td>\n",
       "      <td>4.000000</td>\n",
       "      <td>1.000000</td>\n",
       "      <td>12.000000</td>\n",
       "      <td>1.000000</td>\n",
       "      <td>6.000000</td>\n",
       "      <td>1.000000</td>\n",
       "      <td>3.000000</td>\n",
       "      <td>35.328347</td>\n",
       "      <td>42.044800</td>\n",
       "      <td>97.250000</td>\n",
       "      <td>34.000021</td>\n",
       "      <td>3410.000000</td>\n",
       "      <td>6946.000000</td>\n",
       "      <td>8714.000000</td>\n",
       "    </tr>\n",
       "  </tbody>\n",
       "</table>\n",
       "</div>"
      ],
      "text/plain": [
       "          instant      season          yr        mnth     holiday     weekday  \\\n",
       "count  730.000000  730.000000  730.000000  730.000000  730.000000  730.000000   \n",
       "mean   365.500000    2.498630    0.500000    6.526027    0.028767    2.997260   \n",
       "std    210.877136    1.110184    0.500343    3.450215    0.167266    2.006161   \n",
       "min      1.000000    1.000000    0.000000    1.000000    0.000000    0.000000   \n",
       "25%    183.250000    2.000000    0.000000    4.000000    0.000000    1.000000   \n",
       "50%    365.500000    3.000000    0.500000    7.000000    0.000000    3.000000   \n",
       "75%    547.750000    3.000000    1.000000   10.000000    0.000000    5.000000   \n",
       "max    730.000000    4.000000    1.000000   12.000000    1.000000    6.000000   \n",
       "\n",
       "       workingday  weathersit        temp       atemp         hum   windspeed  \\\n",
       "count  730.000000  730.000000  730.000000  730.000000  730.000000  730.000000   \n",
       "mean     0.683562    1.394521   20.319259   23.726322   62.765175   12.763620   \n",
       "std      0.465405    0.544807    7.506729    8.150308   14.237589    5.195841   \n",
       "min      0.000000    1.000000    2.424346    3.953480    0.000000    1.500244   \n",
       "25%      0.000000    1.000000   13.811885   16.889713   52.000000    9.041650   \n",
       "50%      1.000000    1.000000   20.465826   24.368225   62.625000   12.125325   \n",
       "75%      1.000000    2.000000   26.880615   30.445775   72.989575   15.625589   \n",
       "max      1.000000    3.000000   35.328347   42.044800   97.250000   34.000021   \n",
       "\n",
       "            casual   registered          cnt  \n",
       "count   730.000000   730.000000   730.000000  \n",
       "mean    849.249315  3658.757534  4508.006849  \n",
       "std     686.479875  1559.758728  1936.011647  \n",
       "min       2.000000    20.000000    22.000000  \n",
       "25%     316.250000  2502.250000  3169.750000  \n",
       "50%     717.000000  3664.500000  4548.500000  \n",
       "75%    1096.500000  4783.250000  5966.000000  \n",
       "max    3410.000000  6946.000000  8714.000000  "
      ]
     },
     "metadata": {},
     "output_type": "display_data"
    }
   ],
   "source": [
    "from IPython.display import display\n",
    "\n",
    "# Nicely formatted DataFrame output\n",
    "display(bike.describe())"
   ]
  },
  {
   "cell_type": "code",
   "execution_count": 15,
   "id": "b4317687",
   "metadata": {
    "papermill": {
     "duration": 0.163454,
     "end_time": "2021-09-16T14:29:22.096116",
     "exception": false,
     "start_time": "2021-09-16T14:29:21.932662",
     "status": "completed"
    },
    "scrolled": true,
    "tags": []
   },
   "outputs": [],
   "source": [
    "#Output"
   ]
  },
  {
   "cell_type": "markdown",
   "id": "06f797ab",
   "metadata": {
    "papermill": {
     "duration": 0.081884,
     "end_time": "2021-09-16T14:29:22.262530",
     "exception": false,
     "start_time": "2021-09-16T14:29:22.180646",
     "status": "completed"
    },
    "tags": []
   },
   "source": [
    "### Data Quality Check"
   ]
  },
  {
   "cell_type": "markdown",
   "id": "2f1759a7",
   "metadata": {
    "papermill": {
     "duration": 0.084163,
     "end_time": "2021-09-16T14:29:22.430313",
     "exception": false,
     "start_time": "2021-09-16T14:29:22.346150",
     "status": "completed"
    },
    "tags": []
   },
   "source": [
    "#### Task 3: Check for NULL/MISSING values"
   ]
  },
  {
   "cell_type": "code",
   "execution_count": 19,
   "id": "07e08413",
   "metadata": {},
   "outputs": [
    {
     "name": "stdout",
     "output_type": "stream",
     "text": [
      "instant       0.0\n",
      "dteday        0.0\n",
      "season        0.0\n",
      "yr            0.0\n",
      "mnth          0.0\n",
      "holiday       0.0\n",
      "weekday       0.0\n",
      "workingday    0.0\n",
      "weathersit    0.0\n",
      "temp          0.0\n",
      "atemp         0.0\n",
      "hum           0.0\n",
      "windspeed     0.0\n",
      "casual        0.0\n",
      "registered    0.0\n",
      "cnt           0.0\n",
      "dtype: float64\n"
     ]
    }
   ],
   "source": [
    "# percentage of missing values in each column\n",
    "print(round(bike.isnull().sum() / len(bike) * 100, 2).sort_values(ascending=False))"
   ]
  },
  {
   "cell_type": "code",
   "execution_count": 21,
   "id": "e82c11e7",
   "metadata": {
    "papermill": {
     "duration": 0.095508,
     "end_time": "2021-09-16T14:29:22.610355",
     "exception": false,
     "start_time": "2021-09-16T14:29:22.514847",
     "status": "completed"
    },
    "tags": []
   },
   "outputs": [],
   "source": [
    "#Output"
   ]
  },
  {
   "cell_type": "code",
   "execution_count": null,
   "id": "e8397e7c",
   "metadata": {},
   "outputs": [],
   "source": []
  },
  {
   "cell_type": "markdown",
   "id": "66bf9ffc",
   "metadata": {
    "papermill": {
     "duration": 0.082476,
     "end_time": "2021-09-16T14:29:22.960241",
     "exception": false,
     "start_time": "2021-09-16T14:29:22.877765",
     "status": "completed"
    },
    "tags": []
   },
   "source": [
    "#### Inferences :\n",
    "\n",
    "There should be no missing values in the dataset"
   ]
  },
  {
   "cell_type": "markdown",
   "id": "2b5c9161",
   "metadata": {},
   "source": [
    "#### Task 4: Check for duplicate values"
   ]
  },
  {
   "cell_type": "code",
   "execution_count": 26,
   "id": "d37c0f7a",
   "metadata": {},
   "outputs": [
    {
     "name": "stdout",
     "output_type": "stream",
     "text": [
      "Number of duplicate rows: 0\n",
      "Number of duplicate rows after removal: 0\n"
     ]
    }
   ],
   "source": [
    "# Check for duplicates and dropping the entire duplicate row if any\n",
    "# Check for duplicate rows\n",
    "print(\"Number of duplicate rows:\", bike.duplicated().sum())\n",
    "\n",
    "# Drop duplicate rows if any exist\n",
    "bike = bike.drop_duplicates()\n",
    "\n",
    "# Reset index after dropping duplicates (optional but recommended)\n",
    "bike = bike.reset_index(drop=True)\n",
    "\n",
    "# Verify that no duplicates remain\n",
    "print(\"Number of duplicate rows after removal:\", bike.duplicated().sum())"
   ]
  },
  {
   "cell_type": "markdown",
   "id": "f0297b86",
   "metadata": {
    "papermill": {
     "duration": 0.084803,
     "end_time": "2021-09-16T14:29:23.495957",
     "exception": false,
     "start_time": "2021-09-16T14:29:23.411154",
     "status": "completed"
    },
    "tags": []
   },
   "source": [
    "#### Inferences: \n",
    "\n",
    "There should be no duplicate values in the dataset"
   ]
  },
  {
   "cell_type": "markdown",
   "id": "e2224967",
   "metadata": {
    "papermill": {
     "duration": 0.084438,
     "end_time": "2021-09-16T14:29:23.665924",
     "exception": false,
     "start_time": "2021-09-16T14:29:23.581486",
     "status": "completed"
    },
    "tags": []
   },
   "source": [
    "## Data Cleaning\n",
    "\n",
    "#### Task 5:\n",
    "1. Check value_counts() for entire dataframe. Create  function or run a loop for it\n",
    "    This will help to identify any Unknown/Junk values present in the dataset.\n",
    "\n",
    "2. Create a copy of the dataframe, without the 'instant' column,as this will have unique values, and donot make sense to do a value count on it."
   ]
  },
  {
   "cell_type": "code",
   "execution_count": 31,
   "id": "3bae291d",
   "metadata": {
    "papermill": {
     "duration": 0.092454,
     "end_time": "2021-09-16T14:29:23.845957",
     "exception": false,
     "start_time": "2021-09-16T14:29:23.753503",
     "status": "completed"
    },
    "tags": []
   },
   "outputs": [],
   "source": [
    "# Create a copy of the dataframe without 'instant' column\n",
    "df = bike.drop('instant', axis=1)"
   ]
  },
  {
   "cell_type": "code",
   "execution_count": 33,
   "id": "1ecbff17",
   "metadata": {
    "papermill": {
     "duration": 0.115144,
     "end_time": "2021-09-16T14:29:24.046576",
     "exception": false,
     "start_time": "2021-09-16T14:29:23.931432",
     "status": "completed"
    },
    "tags": []
   },
   "outputs": [
    {
     "name": "stdout",
     "output_type": "stream",
     "text": [
      "\n",
      "Value counts for column 'dteday':\n",
      "dteday\n",
      "01-01-2018    1\n",
      "25-04-2019    1\n",
      "27-04-2019    1\n",
      "28-04-2019    1\n",
      "29-04-2019    1\n",
      "             ..\n",
      "03-09-2018    1\n",
      "04-09-2018    1\n",
      "05-09-2018    1\n",
      "06-09-2018    1\n",
      "31-12-2019    1\n",
      "Name: count, Length: 730, dtype: int64\n",
      "\n",
      "Value counts for column 'season':\n",
      "season\n",
      "3    188\n",
      "2    184\n",
      "1    180\n",
      "4    178\n",
      "Name: count, dtype: int64\n",
      "\n",
      "Value counts for column 'yr':\n",
      "yr\n",
      "0    365\n",
      "1    365\n",
      "Name: count, dtype: int64\n",
      "\n",
      "Value counts for column 'mnth':\n",
      "mnth\n",
      "1     62\n",
      "3     62\n",
      "5     62\n",
      "7     62\n",
      "8     62\n",
      "10    62\n",
      "12    62\n",
      "4     60\n",
      "6     60\n",
      "9     60\n",
      "11    60\n",
      "2     56\n",
      "Name: count, dtype: int64\n",
      "\n",
      "Value counts for column 'holiday':\n",
      "holiday\n",
      "0    709\n",
      "1     21\n",
      "Name: count, dtype: int64\n",
      "\n",
      "Value counts for column 'weekday':\n",
      "weekday\n",
      "6    105\n",
      "0    105\n",
      "1    105\n",
      "2    104\n",
      "4    104\n",
      "5    104\n",
      "3    103\n",
      "Name: count, dtype: int64\n",
      "\n",
      "Value counts for column 'workingday':\n",
      "workingday\n",
      "1    499\n",
      "0    231\n",
      "Name: count, dtype: int64\n",
      "\n",
      "Value counts for column 'weathersit':\n",
      "weathersit\n",
      "1    463\n",
      "2    246\n",
      "3     21\n",
      "Name: count, dtype: int64\n",
      "\n",
      "Value counts for column 'temp':\n",
      "temp\n",
      "26.035000    5\n",
      "10.899153    5\n",
      "27.880000    4\n",
      "28.563347    4\n",
      "23.130847    4\n",
      "            ..\n",
      "27.435847    1\n",
      "26.376653    1\n",
      "28.989419    1\n",
      "28.700000    1\n",
      "8.849153     1\n",
      "Name: count, Length: 498, dtype: int64\n",
      "\n",
      "Value counts for column 'atemp':\n",
      "atemp\n",
      "32.73440    4\n",
      "18.78105    3\n",
      "31.85040    3\n",
      "28.59875    2\n",
      "23.32625    2\n",
      "           ..\n",
      "28.94730    1\n",
      "30.46145    1\n",
      "30.10650    1\n",
      "31.34500    1\n",
      "11.17435    1\n",
      "Name: count, Length: 689, dtype: int64\n",
      "\n",
      "Value counts for column 'hum':\n",
      "hum\n",
      "61.3333    4\n",
      "63.0833    3\n",
      "55.2083    3\n",
      "60.5000    3\n",
      "56.8333    3\n",
      "          ..\n",
      "54.8333    1\n",
      "56.1765    1\n",
      "85.0000    1\n",
      "76.1250    1\n",
      "57.7500    1\n",
      "Name: count, Length: 594, dtype: int64\n",
      "\n",
      "Value counts for column 'windspeed':\n",
      "windspeed\n",
      "9.041918     3\n",
      "11.166689    3\n",
      "11.250104    3\n",
      "15.333486    3\n",
      "7.959064     3\n",
      "            ..\n",
      "12.416775    1\n",
      "13.833289    1\n",
      "14.250632    1\n",
      "23.044181    1\n",
      "10.374682    1\n",
      "Name: count, Length: 649, dtype: int64\n",
      "\n",
      "Value counts for column 'casual':\n",
      "casual\n",
      "120     4\n",
      "968     4\n",
      "639     3\n",
      "163     3\n",
      "775     3\n",
      "       ..\n",
      "2521    1\n",
      "1935    1\n",
      "783     1\n",
      "688     1\n",
      "364     1\n",
      "Name: count, Length: 605, dtype: int64\n",
      "\n",
      "Value counts for column 'registered':\n",
      "registered\n",
      "4841    3\n",
      "6248    3\n",
      "1707    3\n",
      "3461    2\n",
      "2713    2\n",
      "       ..\n",
      "4138    1\n",
      "3231    1\n",
      "4018    1\n",
      "3077    1\n",
      "2290    1\n",
      "Name: count, Length: 678, dtype: int64\n",
      "\n",
      "Value counts for column 'cnt':\n",
      "cnt\n",
      "5409    2\n",
      "2424    2\n",
      "5698    2\n",
      "4459    2\n",
      "5119    2\n",
      "       ..\n",
      "5345    1\n",
      "5046    1\n",
      "4713    1\n",
      "4763    1\n",
      "2729    1\n",
      "Name: count, Length: 695, dtype: int64\n"
     ]
    }
   ],
   "source": [
    "# Loop through each column and print value counts\n",
    "for col in df.columns:\n",
    "    print(f\"\\nValue counts for column '{col}':\")\n",
    "    print(df[col].value_counts())"
   ]
  },
  {
   "cell_type": "markdown",
   "id": "e96d2a2c",
   "metadata": {
    "papermill": {
     "duration": 0.083521,
     "end_time": "2021-09-16T14:29:24.217661",
     "exception": false,
     "start_time": "2021-09-16T14:29:24.134140",
     "status": "completed"
    },
    "tags": []
   },
   "source": [
    "#### Inferences:\n",
    "\n",
    "There seems to be no Junk/Unknown values in the entire dataset."
   ]
  },
  {
   "cell_type": "markdown",
   "id": "a34e539a",
   "metadata": {
    "papermill": {
     "duration": 0.084816,
     "end_time": "2021-09-16T14:29:24.389027",
     "exception": false,
     "start_time": "2021-09-16T14:29:24.304211",
     "status": "completed"
    },
    "tags": []
   },
   "source": [
    "### Removing redundant & unwanted columns"
   ]
  },
  {
   "cell_type": "markdown",
   "id": "e1d7e4c6",
   "metadata": {
    "papermill": {
     "duration": 0.084088,
     "end_time": "2021-09-16T14:29:24.557449",
     "exception": false,
     "start_time": "2021-09-16T14:29:24.473361",
     "status": "completed"
    },
    "tags": []
   },
   "source": [
    "Based on the high level look at the data and the data dictionary, the following variables can be removed from further analysis:\n",
    "\n",
    "1. instant : Its only an index value , we have a default index for the same purpose\n",
    "\n",
    "2. dteday : This has the date, Since we already have seperate columns for 'year' & 'month',hence, we can carry out our analysis without this column .\n",
    "\n",
    "3. casual & registered : Both these columns contains the count of bike booked by different categories of customers. Since our objective is to find the total count of bikes and not by specific category, we will ignore these two columns.\n",
    "\n",
    "**TASK 6: Remove the above columns and save the new dataframe as bike_new, so that the original dataset is preserved for any future analysis/validation**"
   ]
  },
  {
   "cell_type": "code",
   "execution_count": 38,
   "id": "c93757a8",
   "metadata": {
    "papermill": {
     "duration": 0.094231,
     "end_time": "2021-09-16T14:29:24.782690",
     "exception": false,
     "start_time": "2021-09-16T14:29:24.688459",
     "status": "completed"
    },
    "tags": []
   },
   "outputs": [
    {
     "name": "stdout",
     "output_type": "stream",
     "text": [
      "   season  yr  mnth  holiday  weekday  workingday  weathersit       temp  \\\n",
      "0       1   0     1        0        6           0           2  14.110847   \n",
      "1       1   0     1        0        0           0           2  14.902598   \n",
      "2       1   0     1        0        1           1           1   8.050924   \n",
      "3       1   0     1        0        2           1           1   8.200000   \n",
      "4       1   0     1        0        3           1           1   9.305237   \n",
      "\n",
      "      atemp      hum  windspeed   cnt  \n",
      "0  18.18125  80.5833  10.749882   985  \n",
      "1  17.68695  69.6087  16.652113   801  \n",
      "2   9.47025  43.7273  16.636703  1349  \n",
      "3  10.60610  59.0435  10.739832  1562  \n",
      "4  11.46350  43.6957  12.522300  1600  \n"
     ]
    }
   ],
   "source": [
    "# Remove redundant columns and create a new dataframe\n",
    "bike_new = bike.drop(['instant', 'dteday', 'casual', 'registered'], axis=1)\n",
    "\n",
    "# Display first few rows of the new dataframe\n",
    "print(bike_new.head())"
   ]
  },
  {
   "cell_type": "code",
   "execution_count": 40,
   "id": "f459167b",
   "metadata": {
    "papermill": {
     "duration": 0.093505,
     "end_time": "2021-09-16T14:29:24.962871",
     "exception": false,
     "start_time": "2021-09-16T14:29:24.869366",
     "status": "completed"
    },
    "tags": []
   },
   "outputs": [
    {
     "name": "stdout",
     "output_type": "stream",
     "text": [
      "Shape of bike_new: (730, 12)\n",
      "\n",
      "Info of bike_new:\n",
      "<class 'pandas.core.frame.DataFrame'>\n",
      "RangeIndex: 730 entries, 0 to 729\n",
      "Data columns (total 12 columns):\n",
      " #   Column      Non-Null Count  Dtype  \n",
      "---  ------      --------------  -----  \n",
      " 0   season      730 non-null    int64  \n",
      " 1   yr          730 non-null    int64  \n",
      " 2   mnth        730 non-null    int64  \n",
      " 3   holiday     730 non-null    int64  \n",
      " 4   weekday     730 non-null    int64  \n",
      " 5   workingday  730 non-null    int64  \n",
      " 6   weathersit  730 non-null    int64  \n",
      " 7   temp        730 non-null    float64\n",
      " 8   atemp       730 non-null    float64\n",
      " 9   hum         730 non-null    float64\n",
      " 10  windspeed   730 non-null    float64\n",
      " 11  cnt         730 non-null    int64  \n",
      "dtypes: float64(4), int64(8)\n",
      "memory usage: 68.6 KB\n",
      "None\n"
     ]
    }
   ],
   "source": [
    "# Check shape and info of the new dataframe\n",
    "print(\"Shape of bike_new:\", bike_new.shape)\n",
    "print(\"\\nInfo of bike_new:\")\n",
    "print(bike_new.info())"
   ]
  },
  {
   "cell_type": "code",
   "execution_count": 42,
   "id": "652897c7",
   "metadata": {
    "papermill": {
     "duration": 0.100386,
     "end_time": "2021-09-16T14:29:25.150333",
     "exception": false,
     "start_time": "2021-09-16T14:29:25.049947",
     "status": "completed"
    },
    "tags": []
   },
   "outputs": [
    {
     "name": "stdout",
     "output_type": "stream",
     "text": [
      "Statistical summary of bike_new:\n",
      "           season          yr        mnth     holiday     weekday  workingday  \\\n",
      "count  730.000000  730.000000  730.000000  730.000000  730.000000  730.000000   \n",
      "mean     2.498630    0.500000    6.526027    0.028767    2.997260    0.683562   \n",
      "std      1.110184    0.500343    3.450215    0.167266    2.006161    0.465405   \n",
      "min      1.000000    0.000000    1.000000    0.000000    0.000000    0.000000   \n",
      "25%      2.000000    0.000000    4.000000    0.000000    1.000000    0.000000   \n",
      "50%      3.000000    0.500000    7.000000    0.000000    3.000000    1.000000   \n",
      "75%      3.000000    1.000000   10.000000    0.000000    5.000000    1.000000   \n",
      "max      4.000000    1.000000   12.000000    1.000000    6.000000    1.000000   \n",
      "\n",
      "       weathersit        temp       atemp         hum   windspeed          cnt  \n",
      "count  730.000000  730.000000  730.000000  730.000000  730.000000   730.000000  \n",
      "mean     1.394521   20.319259   23.726322   62.765175   12.763620  4508.006849  \n",
      "std      0.544807    7.506729    8.150308   14.237589    5.195841  1936.011647  \n",
      "min      1.000000    2.424346    3.953480    0.000000    1.500244    22.000000  \n",
      "25%      1.000000   13.811885   16.889713   52.000000    9.041650  3169.750000  \n",
      "50%      1.000000   20.465826   24.368225   62.625000   12.125325  4548.500000  \n",
      "75%      2.000000   26.880615   30.445775   72.989575   15.625589  5966.000000  \n",
      "max      3.000000   35.328347   42.044800   97.250000   34.000021  8714.000000  \n"
     ]
    }
   ],
   "source": [
    "# Get statistical summary of the new dataframe\n",
    "print(\"Statistical summary of bike_new:\")\n",
    "print(bike_new.describe())"
   ]
  },
  {
   "cell_type": "markdown",
   "id": "a0451ab5",
   "metadata": {
    "papermill": {
     "duration": 0.08551,
     "end_time": "2021-09-16T14:29:25.322750",
     "exception": false,
     "start_time": "2021-09-16T14:29:25.237240",
     "status": "completed"
    },
    "tags": []
   },
   "source": [
    "## Step 2: Visualising the Data"
   ]
  },
  {
   "cell_type": "markdown",
   "id": "1ff394a8",
   "metadata": {
    "papermill": {
     "duration": 0.085503,
     "end_time": "2021-09-16T14:29:25.496023",
     "exception": false,
     "start_time": "2021-09-16T14:29:25.410520",
     "status": "completed"
    },
    "tags": []
   },
   "source": [
    "#### Task 7: Here we'll do the following tasks:\n",
    "- We would be able to check if all the variables are linearly related or not (important if we want to proceed with a linear model)\n",
    "- Checking if there are any multicollinearity that exist\n",
    "- Here's where we can also identify if some predictors directly have a strong association(correlation) with the outcome variable\n",
    "\n",
    "We'll visualise our data using `matplotlib` and `seaborn`."
   ]
  },
  {
   "cell_type": "markdown",
   "id": "cc2d1aeb",
   "metadata": {
    "papermill": {
     "duration": 0.085699,
     "end_time": "2021-09-16T14:29:25.668078",
     "exception": false,
     "start_time": "2021-09-16T14:29:25.582379",
     "status": "completed"
    },
    "tags": []
   },
   "source": [
    "#### Visualising Numeric Variables : Using a pairplot"
   ]
  },
  {
   "cell_type": "code",
   "execution_count": 186,
   "id": "fabbff4f",
   "metadata": {},
   "outputs": [
    {
     "ename": "KeyError",
     "evalue": "'mnth'",
     "output_type": "error",
     "traceback": [
      "\u001b[0;31m---------------------------------------------------------------------------\u001b[0m",
      "\u001b[0;31mKeyError\u001b[0m                                  Traceback (most recent call last)",
      "File \u001b[0;32m/opt/anaconda3/lib/python3.12/site-packages/pandas/core/indexes/base.py:3805\u001b[0m, in \u001b[0;36mIndex.get_loc\u001b[0;34m(self, key)\u001b[0m\n\u001b[1;32m   3804\u001b[0m \u001b[38;5;28;01mtry\u001b[39;00m:\n\u001b[0;32m-> 3805\u001b[0m     \u001b[38;5;28;01mreturn\u001b[39;00m \u001b[38;5;28mself\u001b[39m\u001b[38;5;241m.\u001b[39m_engine\u001b[38;5;241m.\u001b[39mget_loc(casted_key)\n\u001b[1;32m   3806\u001b[0m \u001b[38;5;28;01mexcept\u001b[39;00m \u001b[38;5;167;01mKeyError\u001b[39;00m \u001b[38;5;28;01mas\u001b[39;00m err:\n",
      "File \u001b[0;32mindex.pyx:167\u001b[0m, in \u001b[0;36mpandas._libs.index.IndexEngine.get_loc\u001b[0;34m()\u001b[0m\n",
      "File \u001b[0;32mindex.pyx:196\u001b[0m, in \u001b[0;36mpandas._libs.index.IndexEngine.get_loc\u001b[0;34m()\u001b[0m\n",
      "File \u001b[0;32mpandas/_libs/hashtable_class_helper.pxi:7081\u001b[0m, in \u001b[0;36mpandas._libs.hashtable.PyObjectHashTable.get_item\u001b[0;34m()\u001b[0m\n",
      "File \u001b[0;32mpandas/_libs/hashtable_class_helper.pxi:7089\u001b[0m, in \u001b[0;36mpandas._libs.hashtable.PyObjectHashTable.get_item\u001b[0;34m()\u001b[0m\n",
      "\u001b[0;31mKeyError\u001b[0m: 'mnth'",
      "\nThe above exception was the direct cause of the following exception:\n",
      "\u001b[0;31mKeyError\u001b[0m                                  Traceback (most recent call last)",
      "Cell \u001b[0;32mIn[186], line 1\u001b[0m\n\u001b[0;32m----> 1\u001b[0m bike_new[\u001b[38;5;124m'\u001b[39m\u001b[38;5;124mmnth\u001b[39m\u001b[38;5;124m'\u001b[39m] \u001b[38;5;241m=\u001b[39m bike_new[\u001b[38;5;124m'\u001b[39m\u001b[38;5;124mmnth\u001b[39m\u001b[38;5;124m'\u001b[39m]\u001b[38;5;241m.\u001b[39mapply(\u001b[38;5;28;01mlambda\u001b[39;00m x: calendar\u001b[38;5;241m.\u001b[39mmonth_abbr[x])\n\u001b[1;32m      2\u001b[0m bike_new[\u001b[38;5;124m'\u001b[39m\u001b[38;5;124mseason\u001b[39m\u001b[38;5;124m'\u001b[39m] \u001b[38;5;241m=\u001b[39m bike_new[\u001b[38;5;124m'\u001b[39m\u001b[38;5;124mseason\u001b[39m\u001b[38;5;124m'\u001b[39m]\u001b[38;5;241m.\u001b[39mmap({\u001b[38;5;241m1\u001b[39m: \u001b[38;5;124m'\u001b[39m\u001b[38;5;124mSpring\u001b[39m\u001b[38;5;124m'\u001b[39m, \u001b[38;5;241m2\u001b[39m: \u001b[38;5;124m'\u001b[39m\u001b[38;5;124mSummer\u001b[39m\u001b[38;5;124m'\u001b[39m, \u001b[38;5;241m3\u001b[39m: \u001b[38;5;124m'\u001b[39m\u001b[38;5;124mFall\u001b[39m\u001b[38;5;124m'\u001b[39m, \u001b[38;5;241m4\u001b[39m: \u001b[38;5;124m'\u001b[39m\u001b[38;5;124mWinter\u001b[39m\u001b[38;5;124m'\u001b[39m})\n\u001b[1;32m      3\u001b[0m bike_new[\u001b[38;5;124m'\u001b[39m\u001b[38;5;124mweathersit\u001b[39m\u001b[38;5;124m'\u001b[39m] \u001b[38;5;241m=\u001b[39m bike_new[\u001b[38;5;124m'\u001b[39m\u001b[38;5;124mweathersit\u001b[39m\u001b[38;5;124m'\u001b[39m]\u001b[38;5;241m.\u001b[39mmap({\n\u001b[1;32m      4\u001b[0m     \u001b[38;5;241m1\u001b[39m: \u001b[38;5;124m'\u001b[39m\u001b[38;5;124mClear\u001b[39m\u001b[38;5;124m'\u001b[39m, \u001b[38;5;241m2\u001b[39m: \u001b[38;5;124m'\u001b[39m\u001b[38;5;124mMist & Cloudy\u001b[39m\u001b[38;5;124m'\u001b[39m, \u001b[38;5;241m3\u001b[39m: \u001b[38;5;124m'\u001b[39m\u001b[38;5;124mLight Snow & Rain\u001b[39m\u001b[38;5;124m'\u001b[39m, \u001b[38;5;241m4\u001b[39m: \u001b[38;5;124m'\u001b[39m\u001b[38;5;124mHeavy Snow & Rain\u001b[39m\u001b[38;5;124m'\u001b[39m\n\u001b[1;32m      5\u001b[0m })\n",
      "File \u001b[0;32m/opt/anaconda3/lib/python3.12/site-packages/pandas/core/frame.py:4102\u001b[0m, in \u001b[0;36mDataFrame.__getitem__\u001b[0;34m(self, key)\u001b[0m\n\u001b[1;32m   4100\u001b[0m \u001b[38;5;28;01mif\u001b[39;00m \u001b[38;5;28mself\u001b[39m\u001b[38;5;241m.\u001b[39mcolumns\u001b[38;5;241m.\u001b[39mnlevels \u001b[38;5;241m>\u001b[39m \u001b[38;5;241m1\u001b[39m:\n\u001b[1;32m   4101\u001b[0m     \u001b[38;5;28;01mreturn\u001b[39;00m \u001b[38;5;28mself\u001b[39m\u001b[38;5;241m.\u001b[39m_getitem_multilevel(key)\n\u001b[0;32m-> 4102\u001b[0m indexer \u001b[38;5;241m=\u001b[39m \u001b[38;5;28mself\u001b[39m\u001b[38;5;241m.\u001b[39mcolumns\u001b[38;5;241m.\u001b[39mget_loc(key)\n\u001b[1;32m   4103\u001b[0m \u001b[38;5;28;01mif\u001b[39;00m is_integer(indexer):\n\u001b[1;32m   4104\u001b[0m     indexer \u001b[38;5;241m=\u001b[39m [indexer]\n",
      "File \u001b[0;32m/opt/anaconda3/lib/python3.12/site-packages/pandas/core/indexes/base.py:3812\u001b[0m, in \u001b[0;36mIndex.get_loc\u001b[0;34m(self, key)\u001b[0m\n\u001b[1;32m   3807\u001b[0m     \u001b[38;5;28;01mif\u001b[39;00m \u001b[38;5;28misinstance\u001b[39m(casted_key, \u001b[38;5;28mslice\u001b[39m) \u001b[38;5;129;01mor\u001b[39;00m (\n\u001b[1;32m   3808\u001b[0m         \u001b[38;5;28misinstance\u001b[39m(casted_key, abc\u001b[38;5;241m.\u001b[39mIterable)\n\u001b[1;32m   3809\u001b[0m         \u001b[38;5;129;01mand\u001b[39;00m \u001b[38;5;28many\u001b[39m(\u001b[38;5;28misinstance\u001b[39m(x, \u001b[38;5;28mslice\u001b[39m) \u001b[38;5;28;01mfor\u001b[39;00m x \u001b[38;5;129;01min\u001b[39;00m casted_key)\n\u001b[1;32m   3810\u001b[0m     ):\n\u001b[1;32m   3811\u001b[0m         \u001b[38;5;28;01mraise\u001b[39;00m InvalidIndexError(key)\n\u001b[0;32m-> 3812\u001b[0m     \u001b[38;5;28;01mraise\u001b[39;00m \u001b[38;5;167;01mKeyError\u001b[39;00m(key) \u001b[38;5;28;01mfrom\u001b[39;00m \u001b[38;5;21;01merr\u001b[39;00m\n\u001b[1;32m   3813\u001b[0m \u001b[38;5;28;01mexcept\u001b[39;00m \u001b[38;5;167;01mTypeError\u001b[39;00m:\n\u001b[1;32m   3814\u001b[0m     \u001b[38;5;66;03m# If we have a listlike key, _check_indexing_error will raise\u001b[39;00m\n\u001b[1;32m   3815\u001b[0m     \u001b[38;5;66;03m#  InvalidIndexError. Otherwise we fall through and re-raise\u001b[39;00m\n\u001b[1;32m   3816\u001b[0m     \u001b[38;5;66;03m#  the TypeError.\u001b[39;00m\n\u001b[1;32m   3817\u001b[0m     \u001b[38;5;28mself\u001b[39m\u001b[38;5;241m.\u001b[39m_check_indexing_error(key)\n",
      "\u001b[0;31mKeyError\u001b[0m: 'mnth'"
     ]
    }
   ],
   "source": [
    "bike_new['mnth'] = bike_new['mnth'].apply(lambda x: calendar.month_abbr[x])\n",
    "bike_new['season'] = bike_new['season'].map({1: 'Spring', 2: 'Summer', 3: 'Fall', 4: 'Winter'})\n",
    "bike_new['weathersit'] = bike_new['weathersit'].map({\n",
    "    1: 'Clear', 2: 'Mist & Cloudy', 3: 'Light Snow & Rain', 4: 'Heavy Snow & Rain'\n",
    "})\n",
    "bike_new['weekday'] = bike_new['weekday'].map({\n",
    "    0: 'Sunday', 1: 'Monday', 2: 'Tuesday', 3: 'Wednesday',\n",
    "    4: 'Thursday', 5: 'Friday', 6: 'Saturday'\n",
    "})\n",
    "print(bike_new.head())"
   ]
  },
  {
   "cell_type": "code",
   "execution_count": 182,
   "id": "13d8aa25-9c9a-4fad-8529-d949d65a1269",
   "metadata": {},
   "outputs": [
    {
     "name": "stdout",
     "output_type": "stream",
     "text": [
      "Index(['yr', 'holiday', 'workingday', 'temp', 'atemp', 'hum', 'windspeed',\n",
      "       'cnt', 'season_Spring', 'season_Summer', 'season_Winter', 'mnth_Aug',\n",
      "       'mnth_Dec', 'mnth_Feb', 'mnth_Jan', 'mnth_Jul', 'mnth_Jun', 'mnth_Mar',\n",
      "       'mnth_May', 'mnth_Nov', 'mnth_Oct', 'mnth_Sep', 'weekday_Monday',\n",
      "       'weekday_Saturday', 'weekday_Sunday', 'weekday_Thrusday',\n",
      "       'weekday_Tuesday', 'weekday_Wednesday', 'weathersit_Light Snow & Rain',\n",
      "       'weathersit_Mist & Cloudy'],\n",
      "      dtype='object')\n"
     ]
    }
   ],
   "source": [
    "print(bike_new.columns)\n"
   ]
  },
  {
   "cell_type": "code",
   "execution_count": 55,
   "id": "8d9ffe09",
   "metadata": {
    "papermill": {
     "duration": 5.058227,
     "end_time": "2021-09-16T14:29:30.812262",
     "exception": false,
     "start_time": "2021-09-16T14:29:25.754035",
     "status": "completed"
    },
    "tags": []
   },
   "outputs": [],
   "source": [
    "#Output"
   ]
  },
  {
   "cell_type": "code",
   "execution_count": null,
   "id": "dc734fe2-d4cf-4784-b2bd-e6d6264d0752",
   "metadata": {},
   "outputs": [],
   "source": []
  },
  {
   "cell_type": "markdown",
   "id": "9dd7f351",
   "metadata": {
    "papermill": {
     "duration": 0.097298,
     "end_time": "2021-09-16T14:29:31.202689",
     "exception": false,
     "start_time": "2021-09-16T14:29:31.105391",
     "status": "completed"
    },
    "tags": []
   },
   "source": [
    "#### Visualising Categorical Variables : Using a Boxplot"
   ]
  },
  {
   "cell_type": "code",
   "execution_count": 58,
   "id": "135204fd",
   "metadata": {},
   "outputs": [
    {
     "data": {
      "image/png": "[encoded data removed]",
      "text/plain": [
       "<Figure size 2000x1000 with 8 Axes>"
      ]
     },
     "metadata": {},
     "output_type": "display_data"
    }
   ],
   "source": [
    "fig, axes = plt.subplots(2, 4, figsize=(20, 10))\n",
    "sns.boxplot(x='season', y='cnt', data=bike_new, ax=axes[0, 0])\n",
    "sns.boxplot(x='yr', y='cnt', data=bike_new, ax=axes[0, 1])\n",
    "sns.boxplot(x='holiday', y='cnt', data=bike_new, ax=axes[0, 2])\n",
    "sns.boxplot(x='weekday', y='cnt', data=bike_new, ax=axes[0, 3])\n",
    "sns.boxplot(x='workingday', y='cnt', data=bike_new, ax=axes[1, 0])\n",
    "sns.boxplot(x='weathersit', y='cnt', data=bike_new, ax=axes[1, 1])\n",
    "sns.boxplot(x='mnth', y='cnt', data=bike_new, ax=axes[1, 2])\n",
    "\n",
    "axes[1, 3].axis('off')  # Leave last plot blank to fill the 4x2 grid\n",
    "\n",
    "plt.suptitle('Boxplots of Categorical Variables vs Count', fontsize=16)\n",
    "plt.tight_layout()\n",
    "plt.show()\n"
   ]
  },
  {
   "cell_type": "code",
   "execution_count": 61,
   "id": "96c4b5f7",
   "metadata": {
    "papermill": {
     "duration": 1.36389,
     "end_time": "2021-09-16T14:29:32.664464",
     "exception": false,
     "start_time": "2021-09-16T14:29:31.300574",
     "status": "completed"
    },
    "tags": []
   },
   "outputs": [],
   "source": [
    "#Output"
   ]
  },
  {
   "cell_type": "markdown",
   "id": "330cb5ef",
   "metadata": {
    "papermill": {
     "duration": 0.098636,
     "end_time": "2021-09-16T14:29:32.863348",
     "exception": false,
     "start_time": "2021-09-16T14:29:32.764712",
     "status": "completed"
    },
    "tags": []
   },
   "source": [
    "### <font color = 'red'> Conslusions: </font>\n",
    "\n",
    "Provide Conclusions"
   ]
  },
  {
   "cell_type": "markdown",
   "id": "cf1ffffa",
   "metadata": {
    "papermill": {
     "duration": 0.125195,
     "end_time": "2021-09-16T14:29:33.087635",
     "exception": false,
     "start_time": "2021-09-16T14:29:32.962440",
     "status": "completed"
    },
    "tags": []
   },
   "source": [
    "## Step 3: Data Preparation"
   ]
  },
  {
   "cell_type": "markdown",
   "id": "5e1b1895",
   "metadata": {
    "papermill": {
     "duration": 0.09851,
     "end_time": "2021-09-16T14:29:33.288534",
     "exception": false,
     "start_time": "2021-09-16T14:29:33.190024",
     "status": "completed"
    },
    "tags": []
   },
   "source": [
    "#### Task 8: Mapping the categorical values to their respective categorical string values (reference data dictionary)"
   ]
  },
  {
   "cell_type": "code",
   "execution_count": 67,
   "id": "6ea3b25a",
   "metadata": {
    "papermill": {
     "duration": 0.108449,
     "end_time": "2021-09-16T14:29:33.493705",
     "exception": false,
     "start_time": "2021-09-16T14:29:33.385256",
     "status": "completed"
    },
    "tags": []
   },
   "outputs": [],
   "source": [
    "import calendar\n",
    "\n",
    "bike_new['mnth'] = bike_new['mnth'].apply(lambda x: calendar.month_abbr[x])"
   ]
  },
  {
   "cell_type": "code",
   "execution_count": 69,
   "id": "01b87621",
   "metadata": {
    "papermill": {
     "duration": 0.105328,
     "end_time": "2021-09-16T14:29:33.695935",
     "exception": false,
     "start_time": "2021-09-16T14:29:33.590607",
     "status": "completed"
    },
    "tags": []
   },
   "outputs": [],
   "source": [
    "# Mapping seasons\n",
    "\n",
    "bike_new.season = bike_new.season.map({1: 'Spring',2:'Summer',3:'Fall',4:'Winter'})"
   ]
  },
  {
   "cell_type": "code",
   "execution_count": 71,
   "id": "679d7fc3",
   "metadata": {
    "papermill": {
     "duration": 0.106842,
     "end_time": "2021-09-16T14:29:33.902607",
     "exception": false,
     "start_time": "2021-09-16T14:29:33.795765",
     "status": "completed"
    },
    "tags": []
   },
   "outputs": [],
   "source": [
    "# Mapping weathersit\n",
    "bike_new.weathersit = bike_new.weathersit.map({1:'Clear',2:'Mist & Cloudy', \n",
    "                                             3:'Light Snow & Rain',4:'Heavy Snow & Rain'})"
   ]
  },
  {
   "cell_type": "code",
   "execution_count": 73,
   "id": "6ac6b134",
   "metadata": {
    "papermill": {
     "duration": 0.107817,
     "end_time": "2021-09-16T14:29:34.108589",
     "exception": false,
     "start_time": "2021-09-16T14:29:34.000772",
     "status": "completed"
    },
    "tags": []
   },
   "outputs": [],
   "source": [
    "# Mapping Weekday\n",
    "\n",
    "bike_new.weekday = bike_new.weekday.map({0:\"Sunday\",1:\"Monday\",2:\"Tuesday\",3:\"Wednesday\",4:\"Thrusday\",5:\"Friday\",6:\"Saturday\"})"
   ]
  },
  {
   "cell_type": "code",
   "execution_count": 75,
   "id": "bac2d282",
   "metadata": {
    "papermill": {
     "duration": 0.116015,
     "end_time": "2021-09-16T14:29:34.321554",
     "exception": false,
     "start_time": "2021-09-16T14:29:34.205539",
     "status": "completed"
    },
    "tags": []
   },
   "outputs": [
    {
     "data": {
      "text/html": [
       "<div>\n",
       "<style scoped>\n",
       "    .dataframe tbody tr th:only-of-type {\n",
       "        vertical-align: middle;\n",
       "    }\n",
       "\n",
       "    .dataframe tbody tr th {\n",
       "        vertical-align: top;\n",
       "    }\n",
       "\n",
       "    .dataframe thead th {\n",
       "        text-align: right;\n",
       "    }\n",
       "</style>\n",
       "<table border=\"1\" class=\"dataframe\">\n",
       "  <thead>\n",
       "    <tr style=\"text-align: right;\">\n",
       "      <th></th>\n",
       "      <th>season</th>\n",
       "      <th>yr</th>\n",
       "      <th>mnth</th>\n",
       "      <th>holiday</th>\n",
       "      <th>weekday</th>\n",
       "      <th>workingday</th>\n",
       "      <th>weathersit</th>\n",
       "      <th>temp</th>\n",
       "      <th>atemp</th>\n",
       "      <th>hum</th>\n",
       "      <th>windspeed</th>\n",
       "      <th>cnt</th>\n",
       "    </tr>\n",
       "  </thead>\n",
       "  <tbody>\n",
       "    <tr>\n",
       "      <th>0</th>\n",
       "      <td>Spring</td>\n",
       "      <td>0</td>\n",
       "      <td>Jan</td>\n",
       "      <td>0</td>\n",
       "      <td>Saturday</td>\n",
       "      <td>0</td>\n",
       "      <td>Mist &amp; Cloudy</td>\n",
       "      <td>14.110847</td>\n",
       "      <td>18.18125</td>\n",
       "      <td>80.5833</td>\n",
       "      <td>10.749882</td>\n",
       "      <td>985</td>\n",
       "    </tr>\n",
       "    <tr>\n",
       "      <th>1</th>\n",
       "      <td>Spring</td>\n",
       "      <td>0</td>\n",
       "      <td>Jan</td>\n",
       "      <td>0</td>\n",
       "      <td>Sunday</td>\n",
       "      <td>0</td>\n",
       "      <td>Mist &amp; Cloudy</td>\n",
       "      <td>14.902598</td>\n",
       "      <td>17.68695</td>\n",
       "      <td>69.6087</td>\n",
       "      <td>16.652113</td>\n",
       "      <td>801</td>\n",
       "    </tr>\n",
       "    <tr>\n",
       "      <th>2</th>\n",
       "      <td>Spring</td>\n",
       "      <td>0</td>\n",
       "      <td>Jan</td>\n",
       "      <td>0</td>\n",
       "      <td>Monday</td>\n",
       "      <td>1</td>\n",
       "      <td>Clear</td>\n",
       "      <td>8.050924</td>\n",
       "      <td>9.47025</td>\n",
       "      <td>43.7273</td>\n",
       "      <td>16.636703</td>\n",
       "      <td>1349</td>\n",
       "    </tr>\n",
       "    <tr>\n",
       "      <th>3</th>\n",
       "      <td>Spring</td>\n",
       "      <td>0</td>\n",
       "      <td>Jan</td>\n",
       "      <td>0</td>\n",
       "      <td>Tuesday</td>\n",
       "      <td>1</td>\n",
       "      <td>Clear</td>\n",
       "      <td>8.200000</td>\n",
       "      <td>10.60610</td>\n",
       "      <td>59.0435</td>\n",
       "      <td>10.739832</td>\n",
       "      <td>1562</td>\n",
       "    </tr>\n",
       "    <tr>\n",
       "      <th>4</th>\n",
       "      <td>Spring</td>\n",
       "      <td>0</td>\n",
       "      <td>Jan</td>\n",
       "      <td>0</td>\n",
       "      <td>Wednesday</td>\n",
       "      <td>1</td>\n",
       "      <td>Clear</td>\n",
       "      <td>9.305237</td>\n",
       "      <td>11.46350</td>\n",
       "      <td>43.6957</td>\n",
       "      <td>12.522300</td>\n",
       "      <td>1600</td>\n",
       "    </tr>\n",
       "  </tbody>\n",
       "</table>\n",
       "</div>"
      ],
      "text/plain": [
       "   season  yr mnth  holiday    weekday  workingday     weathersit       temp  \\\n",
       "0  Spring   0  Jan        0   Saturday           0  Mist & Cloudy  14.110847   \n",
       "1  Spring   0  Jan        0     Sunday           0  Mist & Cloudy  14.902598   \n",
       "2  Spring   0  Jan        0     Monday           1          Clear   8.050924   \n",
       "3  Spring   0  Jan        0    Tuesday           1          Clear   8.200000   \n",
       "4  Spring   0  Jan        0  Wednesday           1          Clear   9.305237   \n",
       "\n",
       "      atemp      hum  windspeed   cnt  \n",
       "0  18.18125  80.5833  10.749882   985  \n",
       "1  17.68695  69.6087  16.652113   801  \n",
       "2   9.47025  43.7273  16.636703  1349  \n",
       "3  10.60610  59.0435  10.739832  1562  \n",
       "4  11.46350  43.6957  12.522300  1600  "
      ]
     },
     "execution_count": 75,
     "metadata": {},
     "output_type": "execute_result"
    }
   ],
   "source": [
    "# Check the dataframe now\n",
    "\n",
    "bike_new.head()"
   ]
  },
  {
   "cell_type": "code",
   "execution_count": 193,
   "id": "d62c0aeb-31a0-4222-8054-cfe86f358508",
   "metadata": {},
   "outputs": [],
   "source": [
    "import pandas as pd\n",
    "import calendar\n",
    "\n",
    "# Load the original dataset again (adjust the path as needed)\n",
    "bike = pd.read_csv(\"/Users/allyirish/Downloads/Erynn Irish - day.csv\")\n",
    "bike_new = bike.drop(['instant', 'dteday', 'casual', 'registered'], axis=1)\n",
    "\n",
    "# Now proceed with the mapping, dummy creation, and dropping\n",
    "bike_new['mnth'] = bike_new['mnth'].apply(lambda x: calendar.month_abbr[x])\n",
    "bike_new['season'] = bike_new['season'].map({1: 'Spring', 2: 'Summer', 3: 'Fall', 4: 'Winter'})\n",
    "bike_new['weathersit'] = bike_new['weathersit'].map({\n",
    "    1: 'Clear', 2: 'Mist & Cloudy', 3: 'Light Snow & Rain', 4: 'Heavy Snow & Rain'\n",
    "})\n",
    "bike_new['weekday'] = bike_new['weekday'].map({\n",
    "    0: 'Sunday', 1: 'Monday', 2: 'Tuesday', 3: 'Wednesday',\n",
    "    4: 'Thursday', 5: 'Friday', 6: 'Saturday'\n",
    "})\n",
    "\n",
    "# Now create dummies as before\n",
    "dummy = pd.get_dummies(bike_new[['season', 'mnth', 'weekday', 'weathersit']], drop_first=True)\n",
    "bike_new = pd.concat([bike_new, dummy], axis=1)\n",
    "bike_new.drop(['season', 'mnth', 'weekday', 'weathersit'], axis=1, inplace=True)"
   ]
  },
  {
   "cell_type": "markdown",
   "id": "7a8e2b3a",
   "metadata": {
    "papermill": {
     "duration": 0.095495,
     "end_time": "2021-09-16T14:29:34.514376",
     "exception": false,
     "start_time": "2021-09-16T14:29:34.418881",
     "status": "completed"
    },
    "tags": []
   },
   "source": [
    "#### Task 9: Creating Dummy Variables"
   ]
  },
  {
   "cell_type": "markdown",
   "id": "e826952c",
   "metadata": {
    "papermill": {
     "duration": 0.095996,
     "end_time": "2021-09-16T14:29:34.706333",
     "exception": false,
     "start_time": "2021-09-16T14:29:34.610337",
     "status": "completed"
    },
    "tags": []
   },
   "source": [
    "The variables `mnth` `weekday` `season` `weathersit` have various levels, for ex, `weathersit` has 3 levels , similarly variable `mnth` has 12 levels.   \n",
    "Create DUMMY variables for these 4 categorical variables namely - `mnth`, `weekday`, `season` & `weathersit`."
   ]
  },
  {
   "cell_type": "code",
   "execution_count": 83,
   "id": "9e1896a4",
   "metadata": {
    "papermill": {
     "duration": 0.107576,
     "end_time": "2021-09-16T14:29:34.912960",
     "exception": false,
     "start_time": "2021-09-16T14:29:34.805384",
     "status": "completed"
    },
    "tags": []
   },
   "outputs": [],
   "source": [
    "# Get the dummy variables for the features ''season','mnth','weekday','weathersit'' and store it in a new variable - 'dummy'\n",
    "dummy = pd.get_dummies(bike_new[['season', 'mnth', 'weekday', 'weathersit']], drop_first=True)"
   ]
  },
  {
   "cell_type": "code",
   "execution_count": 85,
   "id": "8256ffb8",
   "metadata": {
    "papermill": {
     "duration": 0.107443,
     "end_time": "2021-09-16T14:29:35.329825",
     "exception": false,
     "start_time": "2021-09-16T14:29:35.222382",
     "status": "completed"
    },
    "tags": []
   },
   "outputs": [],
   "source": [
    "# Add the dummy variables to the original dataset\n",
    "bike_new = pd.concat([bike_new, dummy], axis=1)"
   ]
  },
  {
   "cell_type": "code",
   "execution_count": 87,
   "id": "06225ad2",
   "metadata": {
    "papermill": {
     "duration": 0.123179,
     "end_time": "2021-09-16T14:29:35.552016",
     "exception": false,
     "start_time": "2021-09-16T14:29:35.428837",
     "status": "completed"
    },
    "tags": []
   },
   "outputs": [
    {
     "name": "stdout",
     "output_type": "stream",
     "text": [
      "   season  yr mnth  holiday    weekday  workingday     weathersit       temp  \\\n",
      "0  Spring   0  Jan        0   Saturday           0  Mist & Cloudy  14.110847   \n",
      "1  Spring   0  Jan        0     Sunday           0  Mist & Cloudy  14.902598   \n",
      "2  Spring   0  Jan        0     Monday           1          Clear   8.050924   \n",
      "3  Spring   0  Jan        0    Tuesday           1          Clear   8.200000   \n",
      "4  Spring   0  Jan        0  Wednesday           1          Clear   9.305237   \n",
      "\n",
      "      atemp      hum  ...  mnth_Oct  mnth_Sep  weekday_Monday  \\\n",
      "0  18.18125  80.5833  ...     False     False           False   \n",
      "1  17.68695  69.6087  ...     False     False           False   \n",
      "2   9.47025  43.7273  ...     False     False            True   \n",
      "3  10.60610  59.0435  ...     False     False           False   \n",
      "4  11.46350  43.6957  ...     False     False           False   \n",
      "\n",
      "   weekday_Saturday  weekday_Sunday  weekday_Thrusday  weekday_Tuesday  \\\n",
      "0              True           False             False            False   \n",
      "1             False            True             False            False   \n",
      "2             False           False             False            False   \n",
      "3             False           False             False             True   \n",
      "4             False           False             False            False   \n",
      "\n",
      "   weekday_Wednesday  weathersit_Light Snow & Rain  weathersit_Mist & Cloudy  \n",
      "0              False                         False                      True  \n",
      "1              False                         False                      True  \n",
      "2              False                         False                     False  \n",
      "3              False                         False                     False  \n",
      "4               True                         False                     False  \n",
      "\n",
      "[5 rows x 34 columns]\n",
      "(730, 34)\n",
      "Index(['season', 'yr', 'mnth', 'holiday', 'weekday', 'workingday',\n",
      "       'weathersit', 'temp', 'atemp', 'hum', 'windspeed', 'cnt',\n",
      "       'season_Spring', 'season_Summer', 'season_Winter', 'mnth_Aug',\n",
      "       'mnth_Dec', 'mnth_Feb', 'mnth_Jan', 'mnth_Jul', 'mnth_Jun', 'mnth_Mar',\n",
      "       'mnth_May', 'mnth_Nov', 'mnth_Oct', 'mnth_Sep', 'weekday_Monday',\n",
      "       'weekday_Saturday', 'weekday_Sunday', 'weekday_Thrusday',\n",
      "       'weekday_Tuesday', 'weekday_Wednesday', 'weathersit_Light Snow & Rain',\n",
      "       'weathersit_Mist & Cloudy'],\n",
      "      dtype='object')\n"
     ]
    }
   ],
   "source": [
    "# Check the dataframe\n",
    "print(bike_new.head())\n",
    "print(bike_new.shape)\n",
    "print(bike_new.columns)"
   ]
  },
  {
   "cell_type": "code",
   "execution_count": 89,
   "id": "4bd86dcf",
   "metadata": {
    "papermill": {
     "duration": 0.125512,
     "end_time": "2021-09-16T14:29:35.777829",
     "exception": false,
     "start_time": "2021-09-16T14:29:35.652317",
     "status": "completed"
    },
    "tags": []
   },
   "outputs": [],
   "source": [
    "# Delete the orginal columns season.weathersit,weekday,mnth\n",
    "bike_new.drop(['season', 'mnth', 'weekday', 'weathersit'], axis=1, inplace=True)"
   ]
  },
  {
   "cell_type": "markdown",
   "id": "8149555a",
   "metadata": {
    "papermill": {
     "duration": 0.100407,
     "end_time": "2021-09-16T14:29:36.413701",
     "exception": false,
     "start_time": "2021-09-16T14:29:36.313294",
     "status": "completed"
    },
    "tags": []
   },
   "source": [
    "## Step 4: Splitting the Data into Training and Testing Sets\n",
    "\n",
    "\n",
    "#### Task 10: The first basic step for regression is to perform a train-test split."
   ]
  },
  {
   "cell_type": "code",
   "execution_count": 175,
   "id": "d3a4a08d",
   "metadata": {},
   "outputs": [
    {
     "name": "stdout",
     "output_type": "stream",
     "text": [
      "X_train shape: (511, 29)\n",
      "X_test shape: (219, 29)\n",
      "y_train shape: (511,)\n",
      "y_test shape: (219,)\n"
     ]
    }
   ],
   "source": [
    "# Step 4: Splitting the Data into Training and Testing Sets\n",
    "\n",
    "# Separate features and target variable\n",
    "X = bike_new.drop('cnt', axis=1)\n",
    "y = bike_new['cnt']\n",
    "\n",
    "# Split into training and test sets (70% train, 30% test)\n",
    "from sklearn.model_selection import train_test_split\n",
    "X_train, X_test, y_train, y_test = train_test_split(X, y, test_size=0.3, random_state=42)\n",
    "\n",
    "# Check the shape of the splits\n",
    "print(\"X_train shape:\", X_train.shape)\n",
    "print(\"X_test shape:\", X_test.shape)\n",
    "print(\"y_train shape:\", y_train.shape)\n",
    "print(\"y_test shape:\", y_test.shape)\n"
   ]
  },
  {
   "cell_type": "markdown",
   "id": "4f9560c4",
   "metadata": {
    "papermill": {
     "duration": 0.100754,
     "end_time": "2021-09-16T14:29:37.584236",
     "exception": false,
     "start_time": "2021-09-16T14:29:37.483482",
     "status": "completed"
    },
    "tags": []
   },
   "source": [
    "## Step 5 :Rescaling the Features"
   ]
  },
  {
   "cell_type": "markdown",
   "id": "d798167f",
   "metadata": {
    "papermill": {
     "duration": 0.100139,
     "end_time": "2021-09-16T14:29:37.785449",
     "exception": false,
     "start_time": "2021-09-16T14:29:37.685310",
     "status": "completed"
    },
    "tags": []
   },
   "source": [
    "Although scaling doesnot impact the linear model in the case of simple linear regression, however while performing multiple linear regression it might impact the model. As we can see that the value of the feature cnt has much higher values as compared to the other features like temp, atemp etc.So it is extremely important to rescale the variables so that they have a comparable scale. If we don't have comparable scales, then some of the coefficients as obtained by fitting the regression model might be very large or very small as compared to the other coefficients. This might become very annoying at the time of model evaluation. So it is advised to use standardization or normalization so that the units of the coefficients obtained are all on the same scale. There are two common ways of rescaling:\n",
    "\n",
    "- Min-Max scaling\n",
    "- Standardisation (mean-0, sigma-1)\n",
    "\n",
    "#### Task 11: This time,  use Standardisation scaling."
   ]
  },
  {
   "cell_type": "code",
   "execution_count": 96,
   "id": "7238dcdd",
   "metadata": {
    "papermill": {
     "duration": 0.10627,
     "end_time": "2021-09-16T14:29:37.994677",
     "exception": false,
     "start_time": "2021-09-16T14:29:37.888407",
     "status": "completed"
    },
    "tags": []
   },
   "outputs": [],
   "source": [
    "from sklearn.preprocessing import StandardScaler\n",
    "\n",
    "scaler = StandardScaler()\n",
    "# Fit only on train columns, excluding target 'cnt'\n",
    "X_train_scaled = scaler.fit_transform(X_train)\n",
    "X_test_scaled = scaler.transform(X_test)\n"
   ]
  },
  {
   "cell_type": "code",
   "execution_count": 98,
   "id": "5f9d3d80",
   "metadata": {
    "papermill": {
     "duration": 0.114092,
     "end_time": "2021-09-16T14:29:38.211704",
     "exception": false,
     "start_time": "2021-09-16T14:29:38.097612",
     "status": "completed"
    },
    "tags": []
   },
   "outputs": [
    {
     "name": "stdout",
     "output_type": "stream",
     "text": [
      "Scaled X_train shape: (511, 29)\n",
      "Scaled X_test shape: (219, 29)\n"
     ]
    }
   ],
   "source": [
    "# Apply scaler() to all the columns except the 'dummy' variables.\n",
    "print(\"Scaled X_train shape:\", X_train_scaled.shape)\n",
    "print(\"Scaled X_test shape:\", X_test_scaled.shape)\n"
   ]
  },
  {
   "cell_type": "markdown",
   "id": "9cf966ee",
   "metadata": {
    "papermill": {
     "duration": 0.102972,
     "end_time": "2021-09-16T14:29:38.929097",
     "exception": false,
     "start_time": "2021-09-16T14:29:38.826125",
     "status": "completed"
    },
    "tags": []
   },
   "source": [
    "#### Task 12: Check the coefficients to see which variables are highly correlated"
   ]
  },
  {
   "cell_type": "code",
   "execution_count": 101,
   "id": "53840cf3",
   "metadata": {
    "papermill": {
     "duration": 4.327919,
     "end_time": "2021-09-16T14:29:43.361296",
     "exception": false,
     "start_time": "2021-09-16T14:29:39.033377",
     "status": "completed"
    },
    "tags": []
   },
   "outputs": [
    {
     "name": "stdout",
     "output_type": "stream",
     "text": [
      "cnt                             1.000000\n",
      "atemp                           0.630685\n",
      "temp                            0.627044\n",
      "yr                              0.569728\n",
      "season_Spring                  -0.561702\n",
      "mnth_Jan                       -0.367167\n",
      "mnth_Feb                       -0.273848\n",
      "weathersit_Light Snow & Rain   -0.240602\n",
      "windspeed                      -0.235132\n",
      "mnth_Jun                        0.195568\n",
      "mnth_Sep                        0.194664\n",
      "mnth_Aug                        0.182100\n",
      "mnth_Dec                       -0.173878\n",
      "weathersit_Mist & Cloudy       -0.170686\n",
      "mnth_Jul                        0.166236\n",
      "season_Summer                   0.145325\n",
      "mnth_May                        0.132553\n",
      "mnth_Mar                       -0.128456\n",
      "mnth_Oct                        0.108846\n",
      "hum                            -0.098543\n",
      "holiday                        -0.068764\n",
      "season_Winter                   0.064619\n",
      "workingday                      0.062542\n",
      "weekday_Sunday                 -0.059146\n",
      "mnth_Nov                       -0.040344\n",
      "weekday_Monday                 -0.035991\n",
      "weekday_Thrusday                0.033551\n",
      "weekday_Wednesday               0.014012\n",
      "weekday_Saturday                0.009012\n",
      "weekday_Tuesday                 0.000560\n",
      "Name: cnt, dtype: float64\n"
     ]
    }
   ],
   "source": [
    "# Check the correlations of all variables with the target variable 'cnt'\n",
    "correlations = bike_new.corr()\n",
    "\n",
    "# Display correlation of all variables with 'cnt', sorted by absolute value\n",
    "corr_with_cnt = correlations['cnt'].sort_values(key=abs, ascending=False)\n",
    "print(corr_with_cnt)"
   ]
  },
  {
   "cell_type": "markdown",
   "id": "fa849c6a",
   "metadata": {
    "papermill": {
     "duration": 0.115242,
     "end_time": "2021-09-16T14:29:43.591989",
     "exception": false,
     "start_time": "2021-09-16T14:29:43.476747",
     "status": "completed"
    },
    "tags": []
   },
   "source": [
    "### <font color = 'red'> Conclusion: </font>\n",
    "As can be seen from the map, `atemp` and `temp` seems to be correlated to the target variable `cnt`. Since, not much can be stated about the other independent variables , hence we'll build a model using all the columns."
   ]
  },
  {
   "cell_type": "markdown",
   "id": "a3aafbf8",
   "metadata": {
    "papermill": {
     "duration": 0.116509,
     "end_time": "2021-09-16T14:29:43.822693",
     "exception": false,
     "start_time": "2021-09-16T14:29:43.706184",
     "status": "completed"
    },
    "tags": []
   },
   "source": [
    "#### Task 13: Dividing into X and Y sets for the model building"
   ]
  },
  {
   "cell_type": "code",
   "execution_count": 105,
   "id": "f6776831",
   "metadata": {
    "papermill": {
     "duration": 0.144118,
     "end_time": "2021-09-16T14:29:44.083620",
     "exception": false,
     "start_time": "2021-09-16T14:29:43.939502",
     "status": "completed"
    },
    "tags": []
   },
   "outputs": [
    {
     "name": "stdout",
     "output_type": "stream",
     "text": [
      "X shape: (730, 29)\n",
      "y shape: (730,)\n"
     ]
    }
   ],
   "source": [
    "# X: all features except the target 'cnt'\n",
    "X = bike_new.drop('cnt', axis=1)\n",
    "\n",
    "# Y: the target variable\n",
    "y = bike_new['cnt']\n",
    "\n",
    "print(\"X shape:\", X.shape)\n",
    "print(\"y shape:\", y.shape)"
   ]
  },
  {
   "cell_type": "markdown",
   "id": "8d82e85b",
   "metadata": {
    "papermill": {
     "duration": 0.11524,
     "end_time": "2021-09-16T14:29:44.550549",
     "exception": false,
     "start_time": "2021-09-16T14:29:44.435309",
     "status": "completed"
    },
    "tags": []
   },
   "source": [
    "## Step 6: Building a linear model\n",
    "\n",
    "APPROACH USED :\n",
    "\n",
    "We will use a mixed approach to build the model.\n",
    "\n",
    "Here we are using `RFE` approach for feature selection and then we will use the sklearn approach for building the model\n",
    "\n",
    "#### Task 14: Learn more about RFE and try to apply this."
   ]
  },
  {
   "cell_type": "markdown",
   "id": "5d798cc4",
   "metadata": {
    "papermill": {
     "duration": 0.1159,
     "end_time": "2021-09-16T14:29:44.781657",
     "exception": false,
     "start_time": "2021-09-16T14:29:44.665757",
     "status": "completed"
    },
    "tags": []
   },
   "source": [
    "### Feature Selection\n",
    "\n",
    "We start with 15 variables.\n",
    "\n",
    "We need to use the LinearRegression function from SciKit Learn for its compatibility with RFE (which is a utility from sklearn)"
   ]
  },
  {
   "cell_type": "code",
   "execution_count": 109,
   "id": "e28b6c34",
   "metadata": {
    "papermill": {
     "duration": 0.243062,
     "end_time": "2021-09-16T14:29:45.142888",
     "exception": false,
     "start_time": "2021-09-16T14:29:44.899826",
     "status": "completed"
    },
    "tags": []
   },
   "outputs": [],
   "source": [
    "# Importing RFE and LinearRegression\n",
    "from sklearn.linear_model import LinearRegression\n",
    "from sklearn.feature_selection import RFE"
   ]
  },
  {
   "cell_type": "code",
   "execution_count": 111,
   "id": "8a993364",
   "metadata": {
    "papermill": {
     "duration": 0.163076,
     "end_time": "2021-09-16T14:29:45.421723",
     "exception": false,
     "start_time": "2021-09-16T14:29:45.258647",
     "status": "completed"
    },
    "tags": []
   },
   "outputs": [
    {
     "name": "stdout",
     "output_type": "stream",
     "text": [
      "Selected features: ['yr', 'holiday', 'workingday', 'atemp', 'hum', 'windspeed', 'season_Spring', 'season_Winter', 'mnth_Dec', 'mnth_Jul', 'mnth_Nov', 'weekday_Saturday', 'weekday_Sunday', 'weathersit_Light Snow & Rain', 'weathersit_Mist & Cloudy']\n"
     ]
    }
   ],
   "source": [
    "# Running RFE with the output number of the variable equal to 15\n",
    "# Instantiate a linear regression model\n",
    "lm = LinearRegression()\n",
    "\n",
    "# Run RFE with 15 features (change 15 to how many you want, typical for assignment)\n",
    "rfe = RFE(estimator=lm, n_features_to_select=15)\n",
    "rfe = rfe.fit(X_train_scaled, y_train)\n",
    "\n",
    "# Get mask of selected features\n",
    "selected_features = X.columns[rfe.support_]\n",
    "print(\"Selected features:\", selected_features.tolist())"
   ]
  },
  {
   "cell_type": "markdown",
   "id": "4f761519",
   "metadata": {
    "papermill": {
     "duration": 0.117448,
     "end_time": "2021-09-16T14:29:46.435843",
     "exception": false,
     "start_time": "2021-09-16T14:29:46.318395",
     "status": "completed"
    },
    "tags": []
   },
   "source": [
    "### Building model using sklearn"
   ]
  },
  {
   "cell_type": "code",
   "execution_count": 114,
   "id": "aa54b252",
   "metadata": {
    "papermill": {
     "duration": 0.127174,
     "end_time": "2021-09-16T14:29:46.681008",
     "exception": false,
     "start_time": "2021-09-16T14:29:46.553834",
     "status": "completed"
    },
    "tags": []
   },
   "outputs": [],
   "source": [
    "# Creating X_test dataframe with RFE selected variables\n",
    "# Select only RFE-selected features for both train and test\n",
    "X_train_rfe = pd.DataFrame(X_train_scaled, columns=X.columns)[selected_features]\n",
    "X_test_rfe = pd.DataFrame(X_test_scaled, columns=X.columns)[selected_features]"
   ]
  },
  {
   "cell_type": "markdown",
   "id": "acfcc9c2",
   "metadata": {
    "papermill": {
     "duration": 0.118648,
     "end_time": "2021-09-16T14:29:48.282436",
     "exception": false,
     "start_time": "2021-09-16T14:29:48.163788",
     "status": "completed"
    },
    "tags": []
   },
   "source": [
    "#### Task 15: Running the linear model"
   ]
  },
  {
   "cell_type": "code",
   "execution_count": 117,
   "id": "82340601",
   "metadata": {
    "papermill": {
     "duration": 0.131173,
     "end_time": "2021-09-16T14:29:48.530768",
     "exception": false,
     "start_time": "2021-09-16T14:29:48.399595",
     "status": "completed"
    },
    "tags": []
   },
   "outputs": [
    {
     "name": "stdout",
     "output_type": "stream",
     "text": [
      "Intercept: 4553.455156748834\n",
      "Coefficients: [ 9.89210907e+02 -1.84336974e+15 -5.31283891e+15  8.35463203e+02\n",
      " -1.82037567e+02 -1.81165776e+02 -5.32616572e+02  3.24453342e+02\n",
      " -1.59313459e+02 -1.65021679e+02 -2.18724970e+02 -4.03980563e+15\n",
      " -4.06126653e+15 -3.09281150e+02 -2.27323725e+02]\n"
     ]
    }
   ],
   "source": [
    "# Fit the model on training data\n",
    "lm.fit(X_train_rfe, y_train)\n",
    "\n",
    "# Print model coefficients and intercept\n",
    "print(\"Intercept:\", lm.intercept_)\n",
    "print(\"Coefficients:\", lm.coef_)"
   ]
  },
  {
   "cell_type": "code",
   "execution_count": 119,
   "id": "13354c0a",
   "metadata": {
    "papermill": {
     "duration": 0.126719,
     "end_time": "2021-09-16T14:29:48.782730",
     "exception": false,
     "start_time": "2021-09-16T14:29:48.656011",
     "status": "completed"
    },
    "tags": []
   },
   "outputs": [
    {
     "name": "stdout",
     "output_type": "stream",
     "text": [
      "                         Feature   Coefficient\n",
      "0                             yr  9.892109e+02\n",
      "1                        holiday -1.843370e+15\n",
      "2                     workingday -5.312839e+15\n",
      "3                          atemp  8.354632e+02\n",
      "4                            hum -1.820376e+02\n",
      "5                      windspeed -1.811658e+02\n",
      "6                  season_Spring -5.326166e+02\n",
      "7                  season_Winter  3.244533e+02\n",
      "8                       mnth_Dec -1.593135e+02\n",
      "9                       mnth_Jul -1.650217e+02\n",
      "10                      mnth_Nov -2.187250e+02\n",
      "11              weekday_Saturday -4.039806e+15\n",
      "12                weekday_Sunday -4.061267e+15\n",
      "13  weathersit_Light Snow & Rain -3.092812e+02\n",
      "14      weathersit_Mist & Cloudy -2.273237e+02\n"
     ]
    }
   ],
   "source": [
    "# Check the parameters obtained\n",
    "# Show as DataFrame for readability\n",
    "params = pd.DataFrame({\n",
    "    'Feature': selected_features,\n",
    "    'Coefficient': lm.coef_\n",
    "})\n",
    "print(params)"
   ]
  },
  {
   "cell_type": "markdown",
   "id": "8d4c348f",
   "metadata": {
    "papermill": {
     "duration": 0.115426,
     "end_time": "2021-09-16T14:29:49.744158",
     "exception": false,
     "start_time": "2021-09-16T14:29:49.628732",
     "status": "completed"
    },
    "tags": []
   },
   "source": [
    "#### Task 16: Check VIF for multicollinearity\n",
    "\n",
    "Variance Inflation Factor or VIF, gives a basic quantitative idea about how much the feature variables are correlated with each other. It is an extremely important parameter to test our linear model. The formula for calculating `VIF` is:\n",
    "\n",
    "### $ VIF_i = \\frac{1}{1 - {R_i}^2} $"
   ]
  },
  {
   "cell_type": "code",
   "execution_count": 122,
   "id": "a8ec0e2a",
   "metadata": {
    "papermill": {
     "duration": 0.158807,
     "end_time": "2021-09-16T14:29:50.021773",
     "exception": false,
     "start_time": "2021-09-16T14:29:49.862966",
     "status": "completed"
    },
    "tags": []
   },
   "outputs": [
    {
     "name": "stdout",
     "output_type": "stream",
     "text": [
      "                        Features       VIF\n",
      "0                          const  1.004408\n",
      "1                             yr  1.030967\n",
      "2                        holiday       inf\n",
      "3                     workingday       inf\n",
      "4                          atemp  3.535812\n",
      "5                            hum  1.857312\n",
      "6                      windspeed  1.218665\n",
      "7                  season_Spring  2.856511\n",
      "8                  season_Winter  2.173500\n",
      "9                       mnth_Dec  1.229958\n",
      "10                      mnth_Jul  1.305406\n",
      "11                      mnth_Nov  1.702195\n",
      "12              weekday_Saturday       inf\n",
      "13                weekday_Sunday       inf\n",
      "14  weathersit_Light Snow & Rain  1.299953\n",
      "15      weathersit_Mist & Cloudy  1.566263\n"
     ]
    }
   ],
   "source": [
    "# Calculate the VIFs for the new model\n",
    "from statsmodels.stats.outliers_influence import variance_inflation_factor\n",
    "import statsmodels.api as sm\n",
    "\n",
    "# Add constant for statsmodels\n",
    "X_vif = sm.add_constant(X_train_rfe)\n",
    "vif = pd.DataFrame()\n",
    "vif[\"Features\"] = X_vif.columns\n",
    "vif[\"VIF\"] = [variance_inflation_factor(X_vif.values, i) for i in range(X_vif.shape[1])]\n",
    "print(vif)"
   ]
  },
  {
   "cell_type": "markdown",
   "id": "f7e42157",
   "metadata": {
    "papermill": {
     "duration": 0.11958,
     "end_time": "2021-09-16T14:29:50.261824",
     "exception": false,
     "start_time": "2021-09-16T14:29:50.142244",
     "status": "completed"
    },
    "tags": []
   },
   "source": [
    "#### Task 17: We generally want a VIF that is less than 5. So there are clearly some variables we need to drop."
   ]
  },
  {
   "cell_type": "code",
   "execution_count": 125,
   "id": "e03a036e",
   "metadata": {
    "papermill": {
     "duration": 0.124468,
     "end_time": "2021-09-16T14:29:50.506918",
     "exception": false,
     "start_time": "2021-09-16T14:29:50.382450",
     "status": "completed"
    },
    "tags": []
   },
   "outputs": [],
   "source": [
    "# dropping `const` column as the vif is > 5\n"
   ]
  },
  {
   "cell_type": "code",
   "execution_count": 127,
   "id": "d35fee31",
   "metadata": {
    "papermill": {
     "duration": 0.151974,
     "end_time": "2021-09-16T14:29:50.777414",
     "exception": false,
     "start_time": "2021-09-16T14:29:50.625440",
     "status": "completed"
    },
    "tags": []
   },
   "outputs": [
    {
     "name": "stdout",
     "output_type": "stream",
     "text": [
      "                        Features       VIF\n",
      "1                             yr  1.030967\n",
      "2                        holiday       inf\n",
      "3                     workingday       inf\n",
      "4                          atemp  3.535812\n",
      "5                            hum  1.857312\n",
      "6                      windspeed  1.218665\n",
      "7                  season_Spring  2.856511\n",
      "8                  season_Winter  2.173500\n",
      "9                       mnth_Dec  1.229958\n",
      "10                      mnth_Jul  1.305406\n",
      "11                      mnth_Nov  1.702195\n",
      "12              weekday_Saturday       inf\n",
      "13                weekday_Sunday       inf\n",
      "14  weathersit_Light Snow & Rain  1.299953\n",
      "15      weathersit_Mist & Cloudy  1.566263\n"
     ]
    }
   ],
   "source": [
    "# Calculate the VIFs for the new model again\n",
    "import statsmodels.api as sm\n",
    "from statsmodels.stats.outliers_influence import variance_inflation_factor\n",
    "\n",
    "# Add constant for statsmodels\n",
    "X_vif = sm.add_constant(X_train_rfe)\n",
    "vif = pd.DataFrame()\n",
    "vif[\"Features\"] = X_vif.columns\n",
    "vif[\"VIF\"] = [variance_inflation_factor(X_vif.values, i) for i in range(X_vif.shape[1])]\n",
    "\n",
    "# Show VIFs except the constant\n",
    "print(vif[vif[\"Features\"] != \"const\"])"
   ]
  },
  {
   "cell_type": "code",
   "execution_count": 129,
   "id": "41b14e9d",
   "metadata": {
    "papermill": {
     "duration": 0.126264,
     "end_time": "2021-09-16T14:29:51.023753",
     "exception": false,
     "start_time": "2021-09-16T14:29:50.897489",
     "status": "completed"
    },
    "tags": []
   },
   "outputs": [],
   "source": [
    "# dropping `hum` column as the vif is > 5\n",
    "\n",
    "X_train_rfe = X_train_rfe.drop(['hum'], axis=1)\n",
    "X_test_rfe = X_test_rfe.drop(['hum'], axis=1)"
   ]
  },
  {
   "cell_type": "code",
   "execution_count": 131,
   "id": "340e807d",
   "metadata": {
    "papermill": {
     "duration": 0.1543,
     "end_time": "2021-09-16T14:29:51.298077",
     "exception": false,
     "start_time": "2021-09-16T14:29:51.143777",
     "status": "completed"
    },
    "tags": []
   },
   "outputs": [
    {
     "name": "stdout",
     "output_type": "stream",
     "text": [
      "                        Features       VIF\n",
      "1                             yr  1.010693\n",
      "2                        holiday       inf\n",
      "3                     workingday       inf\n",
      "4                          atemp  3.371888\n",
      "5                      windspeed  1.118787\n",
      "6                  season_Spring  2.830786\n",
      "7                  season_Winter  2.148110\n",
      "8                       mnth_Dec  1.244664\n",
      "9                       mnth_Jul  1.289689\n",
      "10                      mnth_Nov  1.701524\n",
      "11              weekday_Saturday       inf\n",
      "12                weekday_Sunday       inf\n",
      "13  weathersit_Light Snow & Rain  1.075522\n",
      "14      weathersit_Mist & Cloudy  1.043814\n"
     ]
    }
   ],
   "source": [
    "# Recalculate the VIFs after dropping 'hum'\n",
    "import statsmodels.api as sm\n",
    "from statsmodels.stats.outliers_influence import variance_inflation_factor\n",
    "\n",
    "X_vif = sm.add_constant(X_train_rfe)\n",
    "vif = pd.DataFrame()\n",
    "vif[\"Features\"] = X_vif.columns\n",
    "vif[\"VIF\"] = [variance_inflation_factor(X_vif.values, i) for i in range(X_vif.shape[1])]\n",
    "\n",
    "print(vif[vif[\"Features\"] != \"const\"])"
   ]
  },
  {
   "cell_type": "markdown",
   "id": "d688f314",
   "metadata": {
    "papermill": {
     "duration": 0.135749,
     "end_time": "2021-09-16T14:29:51.571310",
     "exception": false,
     "start_time": "2021-09-16T14:29:51.435561",
     "status": "completed"
    },
    "tags": []
   },
   "source": [
    "#### Note:\n",
    "The VIF value of temp is nearly equal to 5. Hence, we are not dropping this feature."
   ]
  },
  {
   "cell_type": "markdown",
   "id": "c0921643",
   "metadata": {
    "papermill": {
     "duration": 0.12,
     "end_time": "2021-09-16T14:29:51.838401",
     "exception": false,
     "start_time": "2021-09-16T14:29:51.718401",
     "status": "completed"
    },
    "tags": []
   },
   "source": [
    "#### Task 18: Preparing the final model"
   ]
  },
  {
   "cell_type": "code",
   "execution_count": 135,
   "id": "717f4868",
   "metadata": {
    "papermill": {
     "duration": 0.135974,
     "end_time": "2021-09-16T14:29:52.095798",
     "exception": false,
     "start_time": "2021-09-16T14:29:51.959824",
     "status": "completed"
    },
    "tags": []
   },
   "outputs": [
    {
     "data": {
      "text/html": [
       "<style>#sk-container-id-1 {\n",
       "  /* Definition of color scheme common for light and dark mode */\n",
       "  --sklearn-color-text: black;\n",
       "  --sklearn-color-line: gray;\n",
       "  /* Definition of color scheme for unfitted estimators */\n",
       "  --sklearn-color-unfitted-level-0: #fff5e6;\n",
       "  --sklearn-color-unfitted-level-1: #f6e4d2;\n",
       "  --sklearn-color-unfitted-level-2: #ffe0b3;\n",
       "  --sklearn-color-unfitted-level-3: chocolate;\n",
       "  /* Definition of color scheme for fitted estimators */\n",
       "  --sklearn-color-fitted-level-0: #f0f8ff;\n",
       "  --sklearn-color-fitted-level-1: #d4ebff;\n",
       "  --sklearn-color-fitted-level-2: #b3dbfd;\n",
       "  --sklearn-color-fitted-level-3: cornflowerblue;\n",
       "\n",
       "  /* Specific color for light theme */\n",
       "  --sklearn-color-text-on-default-background: var(--sg-text-color, var(--theme-code-foreground, var(--jp-content-font-color1, black)));\n",
       "  --sklearn-color-background: var(--sg-background-color, var(--theme-background, var(--jp-layout-color0, white)));\n",
       "  --sklearn-color-border-box: var(--sg-text-color, var(--theme-code-foreground, var(--jp-content-font-color1, black)));\n",
       "  --sklearn-color-icon: #696969;\n",
       "\n",
       "  @media (prefers-color-scheme: dark) {\n",
       "    /* Redefinition of color scheme for dark theme */\n",
       "    --sklearn-color-text-on-default-background: var(--sg-text-color, var(--theme-code-foreground, var(--jp-content-font-color1, white)));\n",
       "    --sklearn-color-background: var(--sg-background-color, var(--theme-background, var(--jp-layout-color0, #111)));\n",
       "    --sklearn-color-border-box: var(--sg-text-color, var(--theme-code-foreground, var(--jp-content-font-color1, white)));\n",
       "    --sklearn-color-icon: #878787;\n",
       "  }\n",
       "}\n",
       "\n",
       "#sk-container-id-1 {\n",
       "  color: var(--sklearn-color-text);\n",
       "}\n",
       "\n",
       "#sk-container-id-1 pre {\n",
       "  padding: 0;\n",
       "}\n",
       "\n",
       "#sk-container-id-1 input.sk-hidden--visually {\n",
       "  border: 0;\n",
       "  clip: rect(1px 1px 1px 1px);\n",
       "  clip: rect(1px, 1px, 1px, 1px);\n",
       "  height: 1px;\n",
       "  margin: -1px;\n",
       "  overflow: hidden;\n",
       "  padding: 0;\n",
       "  position: absolute;\n",
       "  width: 1px;\n",
       "}\n",
       "\n",
       "#sk-container-id-1 div.sk-dashed-wrapped {\n",
       "  border: 1px dashed var(--sklearn-color-line);\n",
       "  margin: 0 0.4em 0.5em 0.4em;\n",
       "  box-sizing: border-box;\n",
       "  padding-bottom: 0.4em;\n",
       "  background-color: var(--sklearn-color-background);\n",
       "}\n",
       "\n",
       "#sk-container-id-1 div.sk-container {\n",
       "  /* jupyter's `normalize.less` sets `[hidden] { display: none; }`\n",
       "     but bootstrap.min.css set `[hidden] { display: none !important; }`\n",
       "     so we also need the `!important` here to be able to override the\n",
       "     default hidden behavior on the sphinx rendered scikit-learn.org.\n",
       "     See: https://github.com/scikit-learn/scikit-learn/issues/21755 */\n",
       "  display: inline-block !important;\n",
       "  position: relative;\n",
       "}\n",
       "\n",
       "#sk-container-id-1 div.sk-text-repr-fallback {\n",
       "  display: none;\n",
       "}\n",
       "\n",
       "div.sk-parallel-item,\n",
       "div.sk-serial,\n",
       "div.sk-item {\n",
       "  /* draw centered vertical line to link estimators */\n",
       "  background-image: linear-gradient(var(--sklearn-color-text-on-default-background), var(--sklearn-color-text-on-default-background));\n",
       "  background-size: 2px 100%;\n",
       "  background-repeat: no-repeat;\n",
       "  background-position: center center;\n",
       "}\n",
       "\n",
       "/* Parallel-specific style estimator block */\n",
       "\n",
       "#sk-container-id-1 div.sk-parallel-item::after {\n",
       "  content: \"\";\n",
       "  width: 100%;\n",
       "  border-bottom: 2px solid var(--sklearn-color-text-on-default-background);\n",
       "  flex-grow: 1;\n",
       "}\n",
       "\n",
       "#sk-container-id-1 div.sk-parallel {\n",
       "  display: flex;\n",
       "  align-items: stretch;\n",
       "  justify-content: center;\n",
       "  background-color: var(--sklearn-color-background);\n",
       "  position: relative;\n",
       "}\n",
       "\n",
       "#sk-container-id-1 div.sk-parallel-item {\n",
       "  display: flex;\n",
       "  flex-direction: column;\n",
       "}\n",
       "\n",
       "#sk-container-id-1 div.sk-parallel-item:first-child::after {\n",
       "  align-self: flex-end;\n",
       "  width: 50%;\n",
       "}\n",
       "\n",
       "#sk-container-id-1 div.sk-parallel-item:last-child::after {\n",
       "  align-self: flex-start;\n",
       "  width: 50%;\n",
       "}\n",
       "\n",
       "#sk-container-id-1 div.sk-parallel-item:only-child::after {\n",
       "  width: 0;\n",
       "}\n",
       "\n",
       "/* Serial-specific style estimator block */\n",
       "\n",
       "#sk-container-id-1 div.sk-serial {\n",
       "  display: flex;\n",
       "  flex-direction: column;\n",
       "  align-items: center;\n",
       "  background-color: var(--sklearn-color-background);\n",
       "  padding-right: 1em;\n",
       "  padding-left: 1em;\n",
       "}\n",
       "\n",
       "\n",
       "/* Toggleable style: style used for estimator/Pipeline/ColumnTransformer box that is\n",
       "clickable and can be expanded/collapsed.\n",
       "- Pipeline and ColumnTransformer use this feature and define the default style\n",
       "- Estimators will overwrite some part of the style using the `sk-estimator` class\n",
       "*/\n",
       "\n",
       "/* Pipeline and ColumnTransformer style (default) */\n",
       "\n",
       "#sk-container-id-1 div.sk-toggleable {\n",
       "  /* Default theme specific background. It is overwritten whether we have a\n",
       "  specific estimator or a Pipeline/ColumnTransformer */\n",
       "  background-color: var(--sklearn-color-background);\n",
       "}\n",
       "\n",
       "/* Toggleable label */\n",
       "#sk-container-id-1 label.sk-toggleable__label {\n",
       "  cursor: pointer;\n",
       "  display: block;\n",
       "  width: 100%;\n",
       "  margin-bottom: 0;\n",
       "  padding: 0.5em;\n",
       "  box-sizing: border-box;\n",
       "  text-align: center;\n",
       "}\n",
       "\n",
       "#sk-container-id-1 label.sk-toggleable__label-arrow:before {\n",
       "  /* Arrow on the left of the label */\n",
       "  content: \"▸\";\n",
       "  float: left;\n",
       "  margin-right: 0.25em;\n",
       "  color: var(--sklearn-color-icon);\n",
       "}\n",
       "\n",
       "#sk-container-id-1 label.sk-toggleable__label-arrow:hover:before {\n",
       "  color: var(--sklearn-color-text);\n",
       "}\n",
       "\n",
       "/* Toggleable content - dropdown */\n",
       "\n",
       "#sk-container-id-1 div.sk-toggleable__content {\n",
       "  max-height: 0;\n",
       "  max-width: 0;\n",
       "  overflow: hidden;\n",
       "  text-align: left;\n",
       "  /* unfitted */\n",
       "  background-color: var(--sklearn-color-unfitted-level-0);\n",
       "}\n",
       "\n",
       "#sk-container-id-1 div.sk-toggleable__content.fitted {\n",
       "  /* fitted */\n",
       "  background-color: var(--sklearn-color-fitted-level-0);\n",
       "}\n",
       "\n",
       "#sk-container-id-1 div.sk-toggleable__content pre {\n",
       "  margin: 0.2em;\n",
       "  border-radius: 0.25em;\n",
       "  color: var(--sklearn-color-text);\n",
       "  /* unfitted */\n",
       "  background-color: var(--sklearn-color-unfitted-level-0);\n",
       "}\n",
       "\n",
       "#sk-container-id-1 div.sk-toggleable__content.fitted pre {\n",
       "  /* unfitted */\n",
       "  background-color: var(--sklearn-color-fitted-level-0);\n",
       "}\n",
       "\n",
       "#sk-container-id-1 input.sk-toggleable__control:checked~div.sk-toggleable__content {\n",
       "  /* Expand drop-down */\n",
       "  max-height: 200px;\n",
       "  max-width: 100%;\n",
       "  overflow: auto;\n",
       "}\n",
       "\n",
       "#sk-container-id-1 input.sk-toggleable__control:checked~label.sk-toggleable__label-arrow:before {\n",
       "  content: \"▾\";\n",
       "}\n",
       "\n",
       "/* Pipeline/ColumnTransformer-specific style */\n",
       "\n",
       "#sk-container-id-1 div.sk-label input.sk-toggleable__control:checked~label.sk-toggleable__label {\n",
       "  color: var(--sklearn-color-text);\n",
       "  background-color: var(--sklearn-color-unfitted-level-2);\n",
       "}\n",
       "\n",
       "#sk-container-id-1 div.sk-label.fitted input.sk-toggleable__control:checked~label.sk-toggleable__label {\n",
       "  background-color: var(--sklearn-color-fitted-level-2);\n",
       "}\n",
       "\n",
       "/* Estimator-specific style */\n",
       "\n",
       "/* Colorize estimator box */\n",
       "#sk-container-id-1 div.sk-estimator input.sk-toggleable__control:checked~label.sk-toggleable__label {\n",
       "  /* unfitted */\n",
       "  background-color: var(--sklearn-color-unfitted-level-2);\n",
       "}\n",
       "\n",
       "#sk-container-id-1 div.sk-estimator.fitted input.sk-toggleable__control:checked~label.sk-toggleable__label {\n",
       "  /* fitted */\n",
       "  background-color: var(--sklearn-color-fitted-level-2);\n",
       "}\n",
       "\n",
       "#sk-container-id-1 div.sk-label label.sk-toggleable__label,\n",
       "#sk-container-id-1 div.sk-label label {\n",
       "  /* The background is the default theme color */\n",
       "  color: var(--sklearn-color-text-on-default-background);\n",
       "}\n",
       "\n",
       "/* On hover, darken the color of the background */\n",
       "#sk-container-id-1 div.sk-label:hover label.sk-toggleable__label {\n",
       "  color: var(--sklearn-color-text);\n",
       "  background-color: var(--sklearn-color-unfitted-level-2);\n",
       "}\n",
       "\n",
       "/* Label box, darken color on hover, fitted */\n",
       "#sk-container-id-1 div.sk-label.fitted:hover label.sk-toggleable__label.fitted {\n",
       "  color: var(--sklearn-color-text);\n",
       "  background-color: var(--sklearn-color-fitted-level-2);\n",
       "}\n",
       "\n",
       "/* Estimator label */\n",
       "\n",
       "#sk-container-id-1 div.sk-label label {\n",
       "  font-family: monospace;\n",
       "  font-weight: bold;\n",
       "  display: inline-block;\n",
       "  line-height: 1.2em;\n",
       "}\n",
       "\n",
       "#sk-container-id-1 div.sk-label-container {\n",
       "  text-align: center;\n",
       "}\n",
       "\n",
       "/* Estimator-specific */\n",
       "#sk-container-id-1 div.sk-estimator {\n",
       "  font-family: monospace;\n",
       "  border: 1px dotted var(--sklearn-color-border-box);\n",
       "  border-radius: 0.25em;\n",
       "  box-sizing: border-box;\n",
       "  margin-bottom: 0.5em;\n",
       "  /* unfitted */\n",
       "  background-color: var(--sklearn-color-unfitted-level-0);\n",
       "}\n",
       "\n",
       "#sk-container-id-1 div.sk-estimator.fitted {\n",
       "  /* fitted */\n",
       "  background-color: var(--sklearn-color-fitted-level-0);\n",
       "}\n",
       "\n",
       "/* on hover */\n",
       "#sk-container-id-1 div.sk-estimator:hover {\n",
       "  /* unfitted */\n",
       "  background-color: var(--sklearn-color-unfitted-level-2);\n",
       "}\n",
       "\n",
       "#sk-container-id-1 div.sk-estimator.fitted:hover {\n",
       "  /* fitted */\n",
       "  background-color: var(--sklearn-color-fitted-level-2);\n",
       "}\n",
       "\n",
       "/* Specification for estimator info (e.g. \"i\" and \"?\") */\n",
       "\n",
       "/* Common style for \"i\" and \"?\" */\n",
       "\n",
       ".sk-estimator-doc-link,\n",
       "a:link.sk-estimator-doc-link,\n",
       "a:visited.sk-estimator-doc-link {\n",
       "  float: right;\n",
       "  font-size: smaller;\n",
       "  line-height: 1em;\n",
       "  font-family: monospace;\n",
       "  background-color: var(--sklearn-color-background);\n",
       "  border-radius: 1em;\n",
       "  height: 1em;\n",
       "  width: 1em;\n",
       "  text-decoration: none !important;\n",
       "  margin-left: 1ex;\n",
       "  /* unfitted */\n",
       "  border: var(--sklearn-color-unfitted-level-1) 1pt solid;\n",
       "  color: var(--sklearn-color-unfitted-level-1);\n",
       "}\n",
       "\n",
       ".sk-estimator-doc-link.fitted,\n",
       "a:link.sk-estimator-doc-link.fitted,\n",
       "a:visited.sk-estimator-doc-link.fitted {\n",
       "  /* fitted */\n",
       "  border: var(--sklearn-color-fitted-level-1) 1pt solid;\n",
       "  color: var(--sklearn-color-fitted-level-1);\n",
       "}\n",
       "\n",
       "/* On hover */\n",
       "div.sk-estimator:hover .sk-estimator-doc-link:hover,\n",
       ".sk-estimator-doc-link:hover,\n",
       "div.sk-label-container:hover .sk-estimator-doc-link:hover,\n",
       ".sk-estimator-doc-link:hover {\n",
       "  /* unfitted */\n",
       "  background-color: var(--sklearn-color-unfitted-level-3);\n",
       "  color: var(--sklearn-color-background);\n",
       "  text-decoration: none;\n",
       "}\n",
       "\n",
       "div.sk-estimator.fitted:hover .sk-estimator-doc-link.fitted:hover,\n",
       ".sk-estimator-doc-link.fitted:hover,\n",
       "div.sk-label-container:hover .sk-estimator-doc-link.fitted:hover,\n",
       ".sk-estimator-doc-link.fitted:hover {\n",
       "  /* fitted */\n",
       "  background-color: var(--sklearn-color-fitted-level-3);\n",
       "  color: var(--sklearn-color-background);\n",
       "  text-decoration: none;\n",
       "}\n",
       "\n",
       "/* Span, style for the box shown on hovering the info icon */\n",
       ".sk-estimator-doc-link span {\n",
       "  display: none;\n",
       "  z-index: 9999;\n",
       "  position: relative;\n",
       "  font-weight: normal;\n",
       "  right: .2ex;\n",
       "  padding: .5ex;\n",
       "  margin: .5ex;\n",
       "  width: min-content;\n",
       "  min-width: 20ex;\n",
       "  max-width: 50ex;\n",
       "  color: var(--sklearn-color-text);\n",
       "  box-shadow: 2pt 2pt 4pt #999;\n",
       "  /* unfitted */\n",
       "  background: var(--sklearn-color-unfitted-level-0);\n",
       "  border: .5pt solid var(--sklearn-color-unfitted-level-3);\n",
       "}\n",
       "\n",
       ".sk-estimator-doc-link.fitted span {\n",
       "  /* fitted */\n",
       "  background: var(--sklearn-color-fitted-level-0);\n",
       "  border: var(--sklearn-color-fitted-level-3);\n",
       "}\n",
       "\n",
       ".sk-estimator-doc-link:hover span {\n",
       "  display: block;\n",
       "}\n",
       "\n",
       "/* \"?\"-specific style due to the `<a>` HTML tag */\n",
       "\n",
       "#sk-container-id-1 a.estimator_doc_link {\n",
       "  float: right;\n",
       "  font-size: 1rem;\n",
       "  line-height: 1em;\n",
       "  font-family: monospace;\n",
       "  background-color: var(--sklearn-color-background);\n",
       "  border-radius: 1rem;\n",
       "  height: 1rem;\n",
       "  width: 1rem;\n",
       "  text-decoration: none;\n",
       "  /* unfitted */\n",
       "  color: var(--sklearn-color-unfitted-level-1);\n",
       "  border: var(--sklearn-color-unfitted-level-1) 1pt solid;\n",
       "}\n",
       "\n",
       "#sk-container-id-1 a.estimator_doc_link.fitted {\n",
       "  /* fitted */\n",
       "  border: var(--sklearn-color-fitted-level-1) 1pt solid;\n",
       "  color: var(--sklearn-color-fitted-level-1);\n",
       "}\n",
       "\n",
       "/* On hover */\n",
       "#sk-container-id-1 a.estimator_doc_link:hover {\n",
       "  /* unfitted */\n",
       "  background-color: var(--sklearn-color-unfitted-level-3);\n",
       "  color: var(--sklearn-color-background);\n",
       "  text-decoration: none;\n",
       "}\n",
       "\n",
       "#sk-container-id-1 a.estimator_doc_link.fitted:hover {\n",
       "  /* fitted */\n",
       "  background-color: var(--sklearn-color-fitted-level-3);\n",
       "}\n",
       "</style><div id=\"sk-container-id-1\" class=\"sk-top-container\"><div class=\"sk-text-repr-fallback\"><pre>LinearRegression()</pre><b>In a Jupyter environment, please rerun this cell to show the HTML representation or trust the notebook. <br />On GitHub, the HTML representation is unable to render, please try loading this page with nbviewer.org.</b></div><div class=\"sk-container\" hidden><div class=\"sk-item\"><div class=\"sk-estimator fitted sk-toggleable\"><input class=\"sk-toggleable__control sk-hidden--visually\" id=\"sk-estimator-id-1\" type=\"checkbox\" checked><label for=\"sk-estimator-id-1\" class=\"sk-toggleable__label fitted sk-toggleable__label-arrow fitted\">&nbsp;&nbsp;LinearRegression<a class=\"sk-estimator-doc-link fitted\" rel=\"noreferrer\" target=\"_blank\" href=\"https://scikit-learn.org/1.5/modules/generated/sklearn.linear_model.LinearRegression.html\">?<span>Documentation for LinearRegression</span></a><span class=\"sk-estimator-doc-link fitted\">i<span>Fitted</span></span></label><div class=\"sk-toggleable__content fitted\"><pre>LinearRegression()</pre></div> </div></div></div></div>"
      ],
      "text/plain": [
       "LinearRegression()"
      ]
     },
     "execution_count": 135,
     "metadata": {},
     "output_type": "execute_result"
    }
   ],
   "source": [
    "# Create a first fitted model\n",
    "from sklearn.linear_model import LinearRegression\n",
    "\n",
    "# Create and fit the final model using the cleaned (low-VIF) features\n",
    "lm_final = LinearRegression()\n",
    "lm_final.fit(X_train_rfe, y_train)"
   ]
  },
  {
   "cell_type": "code",
   "execution_count": 137,
   "id": "bf952c1a",
   "metadata": {
    "papermill": {
     "duration": 0.158829,
     "end_time": "2021-09-16T14:29:52.640833",
     "exception": false,
     "start_time": "2021-09-16T14:29:52.482004",
     "status": "completed"
    },
    "tags": []
   },
   "outputs": [
    {
     "name": "stdout",
     "output_type": "stream",
     "text": [
      "                        Features       VIF\n",
      "1                             yr  1.010693\n",
      "2                        holiday       inf\n",
      "3                     workingday       inf\n",
      "4                          atemp  3.371888\n",
      "5                      windspeed  1.118787\n",
      "6                  season_Spring  2.830786\n",
      "7                  season_Winter  2.148110\n",
      "8                       mnth_Dec  1.244664\n",
      "9                       mnth_Jul  1.289689\n",
      "10                      mnth_Nov  1.701524\n",
      "11              weekday_Saturday       inf\n",
      "12                weekday_Sunday       inf\n",
      "13  weathersit_Light Snow & Rain  1.075522\n",
      "14      weathersit_Mist & Cloudy  1.043814\n"
     ]
    }
   ],
   "source": [
    "# Calculate the VIFs for the new model again\n",
    "import statsmodels.api as sm\n",
    "from statsmodels.stats.outliers_influence import variance_inflation_factor\n",
    "\n",
    "X_vif = sm.add_constant(X_train_rfe)\n",
    "vif = pd.DataFrame()\n",
    "vif[\"Features\"] = X_vif.columns\n",
    "vif[\"VIF\"] = [variance_inflation_factor(X_vif.values, i) for i in range(X_vif.shape[1])]\n",
    "\n",
    "print(vif[vif[\"Features\"] != \"const\"])"
   ]
  },
  {
   "cell_type": "markdown",
   "id": "2684ebff",
   "metadata": {
    "papermill": {
     "duration": 0.124119,
     "end_time": "2021-09-16T14:29:52.887782",
     "exception": false,
     "start_time": "2021-09-16T14:29:52.763663",
     "status": "completed"
    },
    "tags": []
   },
   "source": [
    "### <font color = 'red'> Conclusion: </font> \n",
    "\n",
    "Here we see that except for temp(that has a vif value slightly more than 5, that can be ignored) rest all the columns have a vif value less than 5.\n",
    "\n",
    "Hence, we finalise `lm_2` as the final model to proceed with the future prdeictions."
   ]
  },
  {
   "cell_type": "markdown",
   "id": "2f770973",
   "metadata": {
    "papermill": {
     "duration": 0.122819,
     "end_time": "2021-09-16T14:29:53.136111",
     "exception": false,
     "start_time": "2021-09-16T14:29:53.013292",
     "status": "completed"
    },
    "tags": []
   },
   "source": [
    "## Step 7: Residual Analysis of the train data"
   ]
  },
  {
   "cell_type": "markdown",
   "id": "801644d6",
   "metadata": {
    "papermill": {
     "duration": 0.122383,
     "end_time": "2021-09-16T14:29:53.380717",
     "exception": false,
     "start_time": "2021-09-16T14:29:53.258334",
     "status": "completed"
    },
    "tags": []
   },
   "source": [
    "#### Task 19: So, now to check if the error terms are also normally distributed (which is infact, one of the major assumptions of linear regression), let us plot the histogram of the error terms and see what it looks like."
   ]
  },
  {
   "cell_type": "code",
   "execution_count": 142,
   "id": "c8e50932",
   "metadata": {
    "papermill": {
     "duration": 0.129798,
     "end_time": "2021-09-16T14:29:53.632444",
     "exception": false,
     "start_time": "2021-09-16T14:29:53.502646",
     "status": "completed"
    },
    "tags": []
   },
   "outputs": [],
   "source": [
    "# Calculate error terms (residuals) for the training set\n",
    "y_train_pred = lm_final.predict(X_train_rfe)\n",
    "residuals = y_train - y_train_pred"
   ]
  },
  {
   "cell_type": "code",
   "execution_count": 144,
   "id": "e835cc11",
   "metadata": {
    "papermill": {
     "duration": 0.379114,
     "end_time": "2021-09-16T14:29:54.137166",
     "exception": false,
     "start_time": "2021-09-16T14:29:53.758052",
     "status": "completed"
    },
    "tags": []
   },
   "outputs": [
    {
     "data": {
      "image/png": "[encoded data removed]",
      "text/plain": [
       "<Figure size 700x400 with 1 Axes>"
      ]
     },
     "metadata": {},
     "output_type": "display_data"
    }
   ],
   "source": [
    "# Plot the histogram of the error terms\n",
    "import matplotlib.pyplot as plt\n",
    "\n",
    "plt.figure(figsize=(7,4))\n",
    "plt.hist(residuals, bins=30, edgecolor='k')\n",
    "plt.xlabel(\"Error Terms (Residuals)\")\n",
    "plt.ylabel(\"Frequency\")\n",
    "plt.title(\"Histogram of Residuals (Train Set)\")\n",
    "plt.show()"
   ]
  },
  {
   "cell_type": "markdown",
   "id": "da89f765",
   "metadata": {
    "papermill": {
     "duration": 0.122499,
     "end_time": "2021-09-16T14:29:54.382786",
     "exception": false,
     "start_time": "2021-09-16T14:29:54.260287",
     "status": "completed"
    },
    "tags": []
   },
   "source": [
    "### <font color = 'red'> Conclusion: </font>\n",
    "\n",
    "We can clearly see that the error terms are centred around 0 and follows a normal distribution, this is in accordance with the stated assumptions of linear regression."
   ]
  },
  {
   "cell_type": "markdown",
   "id": "3f2a35a6",
   "metadata": {
    "papermill": {
     "duration": 0.119128,
     "end_time": "2021-09-16T14:29:54.622179",
     "exception": false,
     "start_time": "2021-09-16T14:29:54.503051",
     "status": "completed"
    },
    "tags": []
   },
   "source": [
    "#### Task 20:  Cross-verifying the above conclusion using a qq-plot as well:"
   ]
  },
  {
   "cell_type": "code",
   "execution_count": 148,
   "id": "8eae8514",
   "metadata": {
    "papermill": {
     "duration": 0.320599,
     "end_time": "2021-09-16T14:29:55.063345",
     "exception": false,
     "start_time": "2021-09-16T14:29:54.742746",
     "status": "completed"
    },
    "tags": []
   },
   "outputs": [
    {
     "data": {
      "image/png": "[encoded data removed]",
      "text/plain": [
       "<Figure size 500x500 with 1 Axes>"
      ]
     },
     "metadata": {},
     "output_type": "display_data"
    }
   ],
   "source": [
    "# Plot the qq-plot of the error terms\n",
    "import scipy.stats as stats\n",
    "\n",
    "# Q-Q plot for residuals\n",
    "plt.figure(figsize=(5,5))\n",
    "stats.probplot(residuals, dist=\"norm\", plot=plt)\n",
    "plt.title(\"Q-Q Plot of Residuals\")\n",
    "plt.show()"
   ]
  },
  {
   "cell_type": "markdown",
   "id": "96ce697e",
   "metadata": {
    "papermill": {
     "duration": 0.124867,
     "end_time": "2021-09-16T14:29:55.320039",
     "exception": false,
     "start_time": "2021-09-16T14:29:55.195172",
     "status": "completed"
    },
    "tags": []
   },
   "source": [
    "### Conclusion:\n",
    "Here we see that most of the data points lie on the straight line , which indicates that the error terms are normally distributed ."
   ]
  },
  {
   "cell_type": "markdown",
   "id": "e698b412",
   "metadata": {
    "papermill": {
     "duration": 0.120743,
     "end_time": "2021-09-16T14:29:55.563181",
     "exception": false,
     "start_time": "2021-09-16T14:29:55.442438",
     "status": "completed"
    },
    "tags": []
   },
   "source": [
    "## Step 8: Making Predictions Using the Final Model"
   ]
  },
  {
   "cell_type": "markdown",
   "id": "4eafb3b9",
   "metadata": {
    "papermill": {
     "duration": 0.121997,
     "end_time": "2021-09-16T14:29:55.806399",
     "exception": false,
     "start_time": "2021-09-16T14:29:55.684402",
     "status": "completed"
    },
    "tags": []
   },
   "source": [
    "Now that we have fitted the model and checked the normality of error terms, it's time to go ahead and make predictions using the final model that we got."
   ]
  },
  {
   "cell_type": "markdown",
   "id": "407474e8",
   "metadata": {
    "papermill": {
     "duration": 0.122214,
     "end_time": "2021-09-16T14:29:56.053804",
     "exception": false,
     "start_time": "2021-09-16T14:29:55.931590",
     "status": "completed"
    },
    "tags": []
   },
   "source": [
    "#### Task 21:  Applying the scaling on the test sets"
   ]
  },
  {
   "cell_type": "code",
   "execution_count": 154,
   "id": "a7c593fc",
   "metadata": {
    "papermill": {
     "duration": 0.134945,
     "end_time": "2021-09-16T14:29:56.313164",
     "exception": false,
     "start_time": "2021-09-16T14:29:56.178219",
     "status": "completed"
    },
    "tags": []
   },
   "outputs": [],
   "source": [
    "# X_test_scaled = scaler.transform(X_test)"
   ]
  },
  {
   "cell_type": "code",
   "execution_count": 156,
   "id": "c13a5012",
   "metadata": {
    "papermill": {
     "duration": 0.202596,
     "end_time": "2021-09-16T14:29:56.639737",
     "exception": false,
     "start_time": "2021-09-16T14:29:56.437141",
     "status": "completed"
    },
    "tags": []
   },
   "outputs": [
    {
     "name": "stdout",
     "output_type": "stream",
     "text": [
      "X_test_scaled shape: (219, 29)\n"
     ]
    }
   ],
   "source": [
    "print(\"X_test_scaled shape:\", X_test_scaled.shape)"
   ]
  },
  {
   "cell_type": "markdown",
   "id": "4a347e45",
   "metadata": {
    "papermill": {
     "duration": 0.123688,
     "end_time": "2021-09-16T14:29:56.886715",
     "exception": false,
     "start_time": "2021-09-16T14:29:56.763027",
     "status": "completed"
    },
    "tags": []
   },
   "source": [
    "#### Task 22 :  Dividing into X_test and y_test"
   ]
  },
  {
   "cell_type": "code",
   "execution_count": 159,
   "id": "de051242",
   "metadata": {
    "papermill": {
     "duration": 0.132246,
     "end_time": "2021-09-16T14:29:57.144432",
     "exception": false,
     "start_time": "2021-09-16T14:29:57.012186",
     "status": "completed"
    },
    "tags": []
   },
   "outputs": [],
   "source": [
    "X_test_rfe = pd.DataFrame(X_test_scaled, columns=X.columns)[X_train_rfe.columns]\n",
    "y_test = y_test"
   ]
  },
  {
   "cell_type": "markdown",
   "id": "aef683d4",
   "metadata": {
    "papermill": {
     "duration": 0.121677,
     "end_time": "2021-09-16T14:29:57.647387",
     "exception": false,
     "start_time": "2021-09-16T14:29:57.525710",
     "status": "completed"
    },
    "tags": []
   },
   "source": [
    "#### Task 23:  Predicting using values used by the final model"
   ]
  },
  {
   "cell_type": "code",
   "execution_count": null,
   "id": "7cfe75c1",
   "metadata": {
    "papermill": {
     "duration": 0.145071,
     "end_time": "2021-09-16T14:29:57.914943",
     "exception": false,
     "start_time": "2021-09-16T14:29:57.769872",
     "status": "completed"
    },
    "tags": []
   },
   "outputs": [],
   "source": []
  },
  {
   "cell_type": "code",
   "execution_count": 163,
   "id": "998c6680",
   "metadata": {
    "papermill": {
     "duration": 0.13306,
     "end_time": "2021-09-16T14:29:58.171974",
     "exception": false,
     "start_time": "2021-09-16T14:29:58.038914",
     "status": "completed"
    },
    "tags": []
   },
   "outputs": [],
   "source": [
    "# Making predictions using the final model\n",
    "\n",
    "# Predict on test and train sets using the final model\n",
    "y_test_pred = lm_final.predict(X_test_rfe)\n",
    "y_train_pred = lm_final.predict(X_train_rfe)"
   ]
  },
  {
   "cell_type": "markdown",
   "id": "ea6c52b7",
   "metadata": {
    "papermill": {
     "duration": 0.122284,
     "end_time": "2021-09-16T14:29:58.419222",
     "exception": false,
     "start_time": "2021-09-16T14:29:58.296938",
     "status": "completed"
    },
    "tags": []
   },
   "source": [
    "#### Task 24:  Calculating the r-squared\n",
    "\n",
    "R-squared is a goodness-of-fit measure for linear regression models. This statistic indicates the percentage of the variance in the dependent variable that the independent variables explain collectively. R-squared measures the strength of the relationship between your model and the dependent variable on a convenient 0 – 100% scale."
   ]
  },
  {
   "cell_type": "code",
   "execution_count": 166,
   "id": "0220f6a8",
   "metadata": {
    "papermill": {
     "duration": 0.133899,
     "end_time": "2021-09-16T14:29:58.675628",
     "exception": false,
     "start_time": "2021-09-16T14:29:58.541729",
     "status": "completed"
    },
    "tags": []
   },
   "outputs": [
    {
     "name": "stdout",
     "output_type": "stream",
     "text": [
      "R-squared on test set: 0.825\n",
      "R-squared on train set: 0.833\n"
     ]
    }
   ],
   "source": [
    "from sklearn.metrics import r2_score\n",
    "\n",
    "r2_test = r2_score(y_test, y_test_pred)\n",
    "r2_train = r2_score(y_train, y_train_pred)\n",
    "\n",
    "print(\"R-squared on test set:\", round(r2_test, 3))\n",
    "print(\"R-squared on train set:\", round(r2_train, 3))"
   ]
  },
  {
   "cell_type": "markdown",
   "id": "934bedc4",
   "metadata": {
    "papermill": {
     "duration": 0.125884,
     "end_time": "2021-09-16T14:29:58.933542",
     "exception": false,
     "start_time": "2021-09-16T14:29:58.807658",
     "status": "completed"
    },
    "tags": []
   },
   "source": [
    "### <font color = 'red'> Conclusion: </font>\n",
    "\n",
    "We can see that the `r_squared on the test set is 0.813` and the `r-squared on the trained set 0.840` which is quiet reasonable and nearly equal, which means that whatever data the model was trained with, it has been almost able to apply those learnings in the test data."
   ]
  },
  {
   "cell_type": "markdown",
   "id": "1c11dca1",
   "metadata": {
    "papermill": {
     "duration": 0.124352,
     "end_time": "2021-09-16T14:29:59.184285",
     "exception": false,
     "start_time": "2021-09-16T14:29:59.059933",
     "status": "completed"
    },
    "tags": []
   },
   "source": [
    "## Step 9: Model Evaluation"
   ]
  },
  {
   "cell_type": "markdown",
   "id": "2c06ccff",
   "metadata": {
    "papermill": {
     "duration": 0.123566,
     "end_time": "2021-09-16T14:29:59.433135",
     "exception": false,
     "start_time": "2021-09-16T14:29:59.309569",
     "status": "completed"
    },
    "tags": []
   },
   "source": [
    "#### Task 25: Plotting the graph for actual versus predicted values."
   ]
  },
  {
   "cell_type": "code",
   "execution_count": 188,
   "id": "4c122ce4",
   "metadata": {
    "papermill": {
     "duration": 0.298284,
     "end_time": "2021-09-16T14:29:59.855406",
     "exception": false,
     "start_time": "2021-09-16T14:29:59.557122",
     "status": "completed"
    },
    "tags": []
   },
   "outputs": [
    {
     "data": {
      "image/png": "[encoded data removed]",
      "text/plain": [
       "<Figure size 800x600 with 1 Axes>"
      ]
     },
     "metadata": {},
     "output_type": "display_data"
    }
   ],
   "source": [
    "# Plotting y_test and y_pred to understand the spread\n",
    "import matplotlib.pyplot as plt\n",
    "\n",
    "plt.figure(figsize=(8,6))\n",
    "plt.scatter(y_test, y_test_pred, color='navy', alpha=0.6)\n",
    "plt.plot([y_test.min(), y_test.max()], [y_test.min(), y_test.max()], color='red', linewidth=2)\n",
    "plt.xlabel('Actual Count')\n",
    "plt.ylabel('Predicted Count')\n",
    "plt.title('Actual vs Predicted Bike Counts (Test Set)')\n",
    "plt.show()"
   ]
  },
  {
   "cell_type": "markdown",
   "id": "34c3fb31",
   "metadata": {
    "papermill": {
     "duration": 0.12611,
     "end_time": "2021-09-16T14:30:00.108259",
     "exception": false,
     "start_time": "2021-09-16T14:29:59.982149",
     "status": "completed"
    },
    "tags": []
   },
   "source": [
    "### Conclusion: \n",
    "We can colude that the final model fit isn't by chance, and has descent predictive power."
   ]
  },
  {
   "cell_type": "markdown",
   "id": "2ac74491",
   "metadata": {
    "papermill": {
     "duration": 0.123579,
     "end_time": "2021-09-16T14:30:00.356526",
     "exception": false,
     "start_time": "2021-09-16T14:30:00.232947",
     "status": "completed"
    },
    "tags": []
   },
   "source": [
    "#### Task 26: Getting the variable names and the coefficient values for the final equation of the best fitted line"
   ]
  },
  {
   "cell_type": "code",
   "execution_count": 190,
   "id": "b82828ea",
   "metadata": {
    "papermill": {
     "duration": 0.143338,
     "end_time": "2021-09-16T14:30:00.624586",
     "exception": false,
     "start_time": "2021-09-16T14:30:00.481248",
     "status": "completed"
    },
    "tags": []
   },
   "outputs": [
    {
     "name": "stdout",
     "output_type": "stream",
     "text": [
      "                        Variable   Coefficient\n",
      "0                             yr  1.008191e+03\n",
      "1                        holiday -2.442997e+15\n",
      "2                     workingday -7.041044e+15\n",
      "3                          atemp  7.836221e+02\n",
      "4                      windspeed -1.398692e+02\n",
      "5                  season_Spring -5.447384e+02\n",
      "6                  season_Winter  3.028457e+02\n",
      "7                       mnth_Dec -1.710544e+02\n",
      "8                       mnth_Jul -1.477986e+02\n",
      "9                       mnth_Nov -2.189791e+02\n",
      "10              weekday_Saturday -5.353907e+15\n",
      "11                weekday_Sunday -5.382349e+15\n",
      "12  weathersit_Light Snow & Rain -3.731363e+02\n",
      "13      weathersit_Mist & Cloudy -3.237749e+02\n"
     ]
    }
   ],
   "source": [
    "# Get coefficients for the selected features\n",
    "coeffs = pd.DataFrame({\n",
    "    'Variable': X_train_rfe.columns,\n",
    "    'Coefficient': lm_final.coef_\n",
    "})\n",
    "\n",
    "print(coeffs)"
   ]
  },
  {
   "cell_type": "markdown",
   "id": "21c67266",
   "metadata": {
    "papermill": {
     "duration": 0.126293,
     "end_time": "2021-09-16T14:30:00.876390",
     "exception": false,
     "start_time": "2021-09-16T14:30:00.750097",
     "status": "completed"
    },
    "tags": []
   },
   "source": [
    "### <font color = 'red'> Final Conclusions : </font>\n",
    "By using the above scatter plot and the table , We can see that the equation of our best fitted line is:\n",
    "\n",
    "$ cnt = 0.2466 + 0.437 \\times  temp + 0.2342  \\times  yr + 0.8865 \\times season Winter + 0.0682 \\times mnth Sept + 0.0033 \\times season Summer - 0.0418 \\times mnth Nov - 0.04452 \\times mnth Dec - 0.0050 \\times mnth Jan - 0.0503 \\times mnth Jul - 0.0716 \\times season Spring - 0.0814 \\times weathersit Mist Cloudy - 0.0919 \\times holiday - 0.1585 \\times windspeed - 0.2928 \\times weathersit Light Snow Rain $"
   ]
  },
  {
   "cell_type": "markdown",
   "id": "012a0e53",
   "metadata": {
    "papermill": {
     "duration": 0.128954,
     "end_time": "2021-09-16T14:30:01.131181",
     "exception": false,
     "start_time": "2021-09-16T14:30:01.002227",
     "status": "completed"
    },
    "tags": []
   },
   "source": [
    "##### All the positive coefficients like temp,season_Summer indicate that an increase in these values will lead to an increase in the value of cnt.\n",
    "##### All the negative coefficients indicate that an increase in these values will lead to a decrease in the value of cnt."
   ]
  },
  {
   "cell_type": "markdown",
   "id": "fc71ae7d",
   "metadata": {
    "papermill": {
     "duration": 0.127831,
     "end_time": "2021-09-16T14:30:01.387850",
     "exception": false,
     "start_time": "2021-09-16T14:30:01.260019",
     "status": "completed"
    },
    "tags": []
   },
   "source": [
    "- From R-Sqaured and adj R-Sqaured value of both train and test dataset we could conclude that the above variables can well explain more than 81% of bike demand.\n",
    "- Coeffiencients of the variables explains the factors effecting the bike demand\n",
    "\n",
    "- Based on final model top three features contributing significantly towards explaining the demand are:\n",
    "\n",
    " - Temperature (0.437655)\n",
    " - weathersit : Light Snow, Light Rain + Mist & Cloudy (-0.292892)\n",
    " - year (0.234287)\n",
    "\n",
    "Hence, it can be clearly concluded that the variables `temperature` , `season`/ `weather situation` and `month`  are significant in predicting the demand for shared bikes ."
   ]
  },
  {
   "cell_type": "markdown",
   "id": "6a8c0c3e",
   "metadata": {
    "papermill": {
     "duration": 0.124978,
     "end_time": "2021-09-16T14:30:01.637162",
     "exception": false,
     "start_time": "2021-09-16T14:30:01.512184",
     "status": "completed"
    },
    "tags": []
   },
   "source": [
    "## Final Recommendations for the Company:\n",
    "- The months - Jan , Jul , Sep , Nov , Dec should be considered by the company as they have a higher demand as compared to other months.\n",
    "- With an increase in temperature the demand also increases, hence it should keep track of the weather conditions.\n",
    "- During the Winter season the demand rises, hence it should be well prepared to meet the high demand"
   ]
  },
  {
   "cell_type": "code",
   "execution_count": null,
   "id": "ed22d9b3",
   "metadata": {
    "papermill": {
     "duration": 0.127201,
     "end_time": "2021-09-16T14:30:01.890971",
     "exception": false,
     "start_time": "2021-09-16T14:30:01.763770",
     "status": "completed"
    },
    "tags": []
   },
   "outputs": [],
   "source": []
  }
 ],
 "metadata": {
  "kernelspec": {
   "display_name": "Python [conda env:base] *",
   "language": "python",
   "name": "conda-base-py"
  },
  "language_info": {
   "codemirror_mode": {
    "name": "ipython",
    "version": 3
   },
   "file_extension": ".py",
   "mimetype": "text/x-python",
   "name": "python",
   "nbconvert_exporter": "python",
   "pygments_lexer": "ipython3",
   "version": "3.12.7"
  },
  "papermill": {
   "default_parameters": {},
   "duration": 50.724958,
   "end_time": "2021-09-16T14:30:02.728253",
   "environment_variables": {},
   "exception": null,
   "input_path": "__notebook__.ipynb",
   "output_path": "__notebook__.ipynb",
   "parameters": {},
   "start_time": "2021-09-16T14:29:12.003295",
   "version": "2.3.3"
  }
 },
 "nbformat": 4,
 "nbformat_minor": 5
}
